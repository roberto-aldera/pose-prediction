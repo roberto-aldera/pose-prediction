{
 "cells": [
  {
   "cell_type": "code",
   "execution_count": 412,
   "metadata": {},
   "outputs": [],
   "source": [
    "import numpy as np\n",
    "import torch\n",
    "from torchvision import transforms\n",
    "from torch import nn, optim\n",
    "from torch.utils.data import Dataset, DataLoader\n",
    "from torch.autograd import Variable \n",
    "torch.manual_seed(1)\n",
    "import matplotlib.pyplot as plt\n",
    "from mpl_toolkits.mplot3d import Axes3D"
   ]
  },
  {
   "cell_type": "code",
   "execution_count": 413,
   "metadata": {},
   "outputs": [],
   "source": [
    "# Creating the artificial dataset\n",
    "dim1_data = np.arange(0,2.2,0.1)\n",
    "dim2_data = np.arange(0,0.22,0.01)\n",
    "\n",
    "# Find means and std devs\n",
    "# dim1_mean = dim1_data.mean()\n",
    "# dim1_std = dim1_data.std()\n",
    "\n",
    "dim1_data_scaled = (dim1_data - dim1_data.mean())/dim1_data.std()\n",
    "dim2_data_scaled = (dim2_data - dim2_data.mean())/dim2_data.std()\n",
    "\n",
    "# all_data = torch.zeros(2,1,22) # should be 3x1 for each pose, just 2x1 for now\n",
    "\n",
    "# all_data[0,0,:] = dim1_data\n",
    "# all_data[1,0,:] = dim2_data\n",
    "\n",
    "# print(all_data)\n",
    "# print(all_data.size())\n"
   ]
  },
  {
   "cell_type": "code",
   "execution_count": 414,
   "metadata": {},
   "outputs": [],
   "source": [
    "class Data2d(Dataset):\n",
    "    \n",
    "    # Constructor\n",
    "    def __init__(self):\n",
    "#         x_data = all_data_scaled[0,0,:]\n",
    "#         y_data = all_data_scaled[1,0,:]\n",
    "        x_data = torch.tensor(dim1_data_scaled)\n",
    "        y_data = torch.tensor(dim2_data_scaled)\n",
    "        \n",
    "        self.x = torch.zeros(20,4)\n",
    "        self.x[:,3] = y_data[:-2]\n",
    "        self.x[:,2] = x_data[:-2]\n",
    "        self.x[:,1] = y_data[1:-1]\n",
    "        self.x[:,0] = x_data[1:-1]\n",
    "        \n",
    "        self.y = torch.zeros(20,2)\n",
    "        self.y[:,0] = x_data[2:]\n",
    "        self.y[:,1] = y_data[2:]\n",
    "        \n",
    "        self.len = self.x.shape[0]\n",
    "    \n",
    "    # Getter\n",
    "    def __getitem__(self, index):\n",
    "        return self.x[index], self.y[index]\n",
    "    \n",
    "    # Getting the length\n",
    "    def __len__(self):\n",
    "        return self.len\n",
    "# Instantiation of the class  \n",
    "my_data = Data2d()"
   ]
  },
  {
   "cell_type": "code",
   "execution_count": 415,
   "metadata": {},
   "outputs": [
    {
     "name": "stdout",
     "output_type": "stream",
     "text": [
      "The parameters:  OrderedDict([('linear.weight', tensor([[ 0.2576, -0.2207, -0.0969,  0.2347],\n",
      "        [-0.4707,  0.2999, -0.1029,  0.2544]])), ('linear.bias', tensor([ 0.0695, -0.0612]))])\n"
     ]
    }
   ],
   "source": [
    "# Creating a linear regression model\n",
    "class lin_reg(nn.Module):\n",
    "\n",
    "    def __init__(self, in_feat, out_feat):\n",
    "        super(lin_reg, self).__init__()\n",
    "        self.linear = nn.Linear(in_feat, out_feat)\n",
    "        \n",
    "    def forward(self,x):\n",
    "        yhat = self.linear(x)\n",
    "        return yhat\n",
    "    \n",
    "# Instantiation of an object\n",
    "model = lin_reg(4,2)\n",
    "print(\"The parameters: \", model.state_dict())"
   ]
  },
  {
   "cell_type": "code",
   "execution_count": 416,
   "metadata": {},
   "outputs": [],
   "source": [
    "# Parameters\n",
    "criterion = nn.MSELoss()\n",
    "optimizer = optim.SGD(model.parameters(), lr = 0.01) \n",
    "# Training data object which loads the artificial data\n",
    "trainloader = DataLoader(dataset = my_data, batch_size = 1)\n",
    "# Training the model\n",
    "Loss = []  # variable for storing losses after each epoch\n",
    "epochs = 50\n",
    "\n",
    "def train_model(epochs):\n",
    "    for epoch in range(epochs):\n",
    "        for x,y in trainloader:\n",
    "            yhat = model(x)\n",
    "            loss = criterion(yhat,y)\n",
    "            Loss.append(loss.item())\n",
    "            optimizer.zero_grad()\n",
    "            loss.backward()\n",
    "            optimizer.step()\n",
    "# Calling the training function          \n",
    "train_model(epochs)"
   ]
  },
  {
   "cell_type": "code",
   "execution_count": 417,
   "metadata": {},
   "outputs": [
    {
     "data": {
      "text/plain": [
       "[<matplotlib.lines.Line2D at 0x7f33f3f933d0>]"
      ]
     },
     "execution_count": 417,
     "metadata": {},
     "output_type": "execute_result"
    },
    {
     "data": {
      "image/png": "[encoded data removed]",
      "text/plain": [
       "<Figure size 432x288 with 1 Axes>"
      ]
     },
     "metadata": {
      "needs_background": "light"
     },
     "output_type": "display_data"
    }
   ],
   "source": [
    "plt.plot(Loss)"
   ]
  },
  {
   "cell_type": "code",
   "execution_count": 418,
   "metadata": {},
   "outputs": [
    {
     "name": "stdout",
     "output_type": "stream",
     "text": [
      "tensor([-1.4974, -1.4974, -1.6550, -1.6550]) tensor([-1.3398, -1.3398])\n",
      "tensor([-1.3398, -1.3398, -1.4974, -1.4974]) tensor([-1.1822, -1.1822])\n",
      "tensor([-1.1822, -1.1822, -1.3398, -1.3398]) tensor([-1.0245, -1.0245])\n",
      "tensor([-1.0245, -1.0245, -1.1822, -1.1822]) tensor([-0.8669, -0.8669])\n",
      "tensor([-0.8669, -0.8669, -1.0245, -1.0245]) tensor([-0.7093, -0.7093])\n",
      "tensor([-0.7093, -0.7093, -0.8669, -0.8669]) tensor([-0.5517, -0.5517])\n",
      "tensor([-0.5517, -0.5517, -0.7093, -0.7093]) tensor([-0.3941, -0.3941])\n",
      "tensor([-0.3941, -0.3941, -0.5517, -0.5517]) tensor([-0.2364, -0.2364])\n",
      "tensor([-0.2364, -0.2364, -0.3941, -0.3941]) tensor([-0.0788, -0.0788])\n",
      "tensor([-0.0788, -0.0788, -0.2364, -0.2364]) tensor([0.0788, 0.0788])\n",
      "tensor([ 0.0788,  0.0788, -0.0788, -0.0788]) tensor([0.2364, 0.2364])\n",
      "tensor([0.2364, 0.2364, 0.0788, 0.0788]) tensor([0.3941, 0.3941])\n",
      "tensor([0.3941, 0.3941, 0.2364, 0.2364]) tensor([0.5517, 0.5517])\n",
      "tensor([0.5517, 0.5517, 0.3941, 0.3941]) tensor([0.7093, 0.7093])\n",
      "tensor([0.7093, 0.7093, 0.5517, 0.5517]) tensor([0.8669, 0.8669])\n",
      "tensor([0.8669, 0.8669, 0.7093, 0.7093]) tensor([1.0245, 1.0245])\n",
      "tensor([1.0245, 1.0245, 0.8669, 0.8669]) tensor([1.1822, 1.1822])\n",
      "tensor([1.1822, 1.1822, 1.0245, 1.0245]) tensor([1.3398, 1.3398])\n",
      "tensor([1.3398, 1.3398, 1.1822, 1.1822]) tensor([1.4974, 1.4974])\n",
      "tensor([1.4974, 1.4974, 1.3398, 1.3398]) tensor([1.6550, 1.6550])\n"
     ]
    }
   ],
   "source": [
    "for i in range(len(my_data)):\n",
    "    print(my_data.x[i],my_data.y[i])\n"
   ]
  },
  {
   "cell_type": "code",
   "execution_count": 419,
   "metadata": {},
   "outputs": [
    {
     "name": "stdout",
     "output_type": "stream",
     "text": [
      "x:  tensor([[-1.4974, -1.4974, -1.6550, -1.6550]])\n",
      "yhat:  tensor([[-1.3398, -1.3398]])\n",
      "x:  tensor([[-1.3398, -1.3398, -1.4974, -1.4974]])\n",
      "yhat:  tensor([[-1.1822, -1.1822]])\n",
      "x:  tensor([[-1.1822, -1.1822, -1.3398, -1.3398]])\n",
      "yhat:  tensor([[-1.0246, -1.0246]])\n",
      "x:  tensor([[-1.0245, -1.0245, -1.1822, -1.1822]])\n",
      "yhat:  tensor([[-0.8669, -0.8669]])\n",
      "x:  tensor([[-0.8669, -0.8669, -1.0245, -1.0245]])\n",
      "yhat:  tensor([[-0.7093, -0.7093]])\n",
      "x:  tensor([[-0.7093, -0.7093, -0.8669, -0.8669]])\n",
      "yhat:  tensor([[-0.5517, -0.5517]])\n",
      "x:  tensor([[-0.5517, -0.5517, -0.7093, -0.7093]])\n",
      "yhat:  tensor([[-0.3941, -0.3941]])\n",
      "x:  tensor([[-0.3941, -0.3941, -0.5517, -0.5517]])\n",
      "yhat:  tensor([[-0.2364, -0.2364]])\n",
      "x:  tensor([[-0.2364, -0.2364, -0.3941, -0.3941]])\n",
      "yhat:  tensor([[-0.0788, -0.0788]])\n",
      "x:  tensor([[-0.0788, -0.0788, -0.2364, -0.2364]])\n",
      "yhat:  tensor([[0.0788, 0.0788]])\n",
      "x:  tensor([[ 0.0788,  0.0788, -0.0788, -0.0788]])\n",
      "yhat:  tensor([[0.2364, 0.2364]])\n",
      "x:  tensor([[0.2364, 0.2364, 0.0788, 0.0788]])\n",
      "yhat:  tensor([[0.3940, 0.3940]])\n",
      "x:  tensor([[0.3941, 0.3941, 0.2364, 0.2364]])\n",
      "yhat:  tensor([[0.5517, 0.5517]])\n",
      "x:  tensor([[0.5517, 0.5517, 0.3941, 0.3941]])\n",
      "yhat:  tensor([[0.7093, 0.7093]])\n",
      "x:  tensor([[0.7093, 0.7093, 0.5517, 0.5517]])\n",
      "yhat:  tensor([[0.8669, 0.8669]])\n",
      "x:  tensor([[0.8669, 0.8669, 0.7093, 0.7093]])\n",
      "yhat:  tensor([[1.0245, 1.0245]])\n",
      "x:  tensor([[1.0245, 1.0245, 0.8669, 0.8669]])\n",
      "yhat:  tensor([[1.1822, 1.1822]])\n",
      "x:  tensor([[1.1822, 1.1822, 1.0245, 1.0245]])\n",
      "yhat:  tensor([[1.3398, 1.3398]])\n",
      "x:  tensor([[1.3398, 1.3398, 1.1822, 1.1822]])\n",
      "yhat:  tensor([[1.4974, 1.4974]])\n",
      "x:  tensor([[1.4974, 1.4974, 1.3398, 1.3398]])\n",
      "yhat:  tensor([[1.6550, 1.6550]])\n"
     ]
    }
   ],
   "source": [
    "for x,y in trainloader:\n",
    "        yhat = model(x)\n",
    "        print('x: ',x.data)\n",
    "        print('yhat: ',yhat.data)"
   ]
  },
  {
   "cell_type": "code",
   "execution_count": 420,
   "metadata": {},
   "outputs": [
    {
     "name": "stdout",
     "output_type": "stream",
     "text": [
      "[3.1 3. ]\n",
      "[0.31 0.3 ]\n",
      "[3.23125267 3.07363058]\n",
      "[3.23125258 3.07363049]\n",
      "tensor([[3.1000, 3.0000]])\n"
     ]
    }
   ],
   "source": [
    "query_dim1 = np.array([3.1,3.0])\n",
    "query_dim2 = np.array([0.31,0.3])\n",
    "print(query_dim1)\n",
    "print(query_dim2)\n",
    "\n",
    "scaled_query_dim1 = (query_dim1 - dim1_mean)/dim1_std\n",
    "scaled_query_dim2 = (query_dim2 - dim2_mean)/dim2_std\n",
    "print(scaled_query_dim1)\n",
    "print(scaled_query_dim2)\n",
    "\n",
    "new_query = Variable(torch.Tensor([query_dim1]))\n",
    "print(new_query)"
   ]
  },
  {
   "cell_type": "code",
   "execution_count": 421,
   "metadata": {},
   "outputs": [],
   "source": [
    "# # new_var = Variable(torch.Tensor([[3.1,3.0],[0.31,0.3]])) #this is grouped differently, make it consistent (TODO)\n",
    "# new_var = Variable(torch.Tensor([3.1,0.31,3.0,0.3]))\n",
    "# print(new_var[:][0])\n",
    "# print('true new_var:\\n',new_var)\n",
    "\n",
    "# new_var[0][:] = (new_var[0][:] - dim1_mean) /  dim1_std\n",
    "# new_var[1][:] = (new_var[1][:] - dim2_mean) /  dim2_std\n",
    "\n",
    "# # new_var[0][:] = (new_var[0][:] - dim1_mean) /  dim1_std\n",
    "# # new_var[1][:] = (new_var[1][:] - dim2_mean) /  dim2_std\n",
    "\n",
    "# print('scaled new_var:\\n',new_var)\n",
    "\n",
    "# new_var = new_var.view(-1,4)\n",
    "\n",
    "# answer = model(new_var)\n",
    "\n",
    "# print('\\n raw answer:\\n',answer)\n",
    "# print('\\n scaled up again:\\n')\n",
    "# print(answer[0][0]*dim1_std + dim1_mean)\n",
    "# print(answer[0][1]*dim2_std + dim2_mean)"
   ]
  },
  {
   "cell_type": "code",
   "execution_count": 422,
   "metadata": {},
   "outputs": [
    {
     "data": {
      "text/plain": [
       "tensor([[2.1359, 0.3681]], grad_fn=<AddmmBackward>)"
      ]
     },
     "execution_count": 422,
     "metadata": {},
     "output_type": "execute_result"
    }
   ],
   "source": [
    "x_data = torch.arange(0,2.2,0.1)\n",
    "y_data = torch.arange(0,0.22,0.01)\n",
    "\n",
    "mean_x_data = x_data.mean(0, keepdim=True)\n",
    "std_x_data = x_data.std(0, unbiased=False, keepdim=True)\n",
    "x_data -= mean_x_data\n",
    "x_data /= std_x_data\n",
    "\n",
    "mean_y_data = y_data.mean(0, keepdim=True)\n",
    "std_y_data = y_data.std(0, unbiased=False, keepdim=True)\n",
    "y_data -= mean_y_data\n",
    "y_data /= std_y_data\n",
    "\n",
    "new_var = Variable(torch.Tensor([[3.1,0.31,3.0,0.3]]))\n",
    "model(new_var)"
   ]
  },
  {
   "cell_type": "code",
   "execution_count": 423,
   "metadata": {},
   "outputs": [],
   "source": [
    "tmp = torch.Tensor([3.1,0.31,3.0,0.3])\n",
    "# tmp *= 2"
   ]
  },
  {
   "cell_type": "code",
   "execution_count": 424,
   "metadata": {},
   "outputs": [
    {
     "name": "stdout",
     "output_type": "stream",
     "text": [
      "tensor([[3.2313, 3.2313, 3.0736, 3.0736]])\n",
      "tensor([[3.3889, 3.3889]], grad_fn=<AddmmBackward>)\n",
      "tensor([3.2000], grad_fn=<AddBackward0>)\n",
      "tensor([0.3200], grad_fn=<AddBackward0>)\n"
     ]
    }
   ],
   "source": [
    "x1 = 3.1\n",
    "y1 = 0.31\n",
    "x2 = 3.0\n",
    "y2 = 0.3\n",
    "\n",
    "x1 -= mean_x_data\n",
    "x1 /= std_x_data\n",
    "x2 -= mean_x_data\n",
    "x2 /= std_x_data\n",
    "\n",
    "y1 -= mean_y_data\n",
    "y1 /= std_y_data\n",
    "y2 -= mean_y_data\n",
    "y2 /= std_y_data\n",
    "\n",
    "new_var = Variable(torch.Tensor([[x1,y1,x2,y2]]))\n",
    "answer = model(new_var)\n",
    "\n",
    "print(new_var)\n",
    "print(answer)\n",
    "\n",
    "x_ans = answer[0][0] * std_x_data\n",
    "x_ans = x_ans + mean_x_data\n",
    "y_ans = answer[0][1] * std_y_data\n",
    "y_ans = y_ans + mean_y_data\n",
    "\n",
    "print(x_ans)\n",
    "print(y_ans)"
   ]
  },
  {
   "cell_type": "code",
   "execution_count": 425,
   "metadata": {},
   "outputs": [
    {
     "name": "stdout",
     "output_type": "stream",
     "text": [
      "[3.1 3. ]\n",
      "[0.31 0.3 ]\n",
      "[3.23125267 3.07363058]\n",
      "[3.23125258 3.07363049]\n",
      "tensor([[3.2313, 3.2313, 3.0736, 3.0736]])\n",
      "\n",
      " raw answer:\n",
      " tensor([[3.3889, 3.3889]], grad_fn=<AddmmBackward>)\n",
      "\n",
      " scaled up again:\n",
      "\n",
      "tensor(3.2000, grad_fn=<AddBackward0>)\n",
      "tensor(0.3200, grad_fn=<AddBackward0>)\n"
     ]
    }
   ],
   "source": [
    "query_dim1 = np.array([3.1,3.0])\n",
    "query_dim2 = np.array([0.31,0.3])\n",
    "print(query_dim1)\n",
    "print(query_dim2)\n",
    "\n",
    "scaled_query_dim1 = (query_dim1 - dim1_mean)/dim1_std\n",
    "scaled_query_dim2 = (query_dim2 - dim2_mean)/dim2_std\n",
    "print(scaled_query_dim1)\n",
    "print(scaled_query_dim2)\n",
    "\n",
    "# Build combination so x and y are adjacent for 1 pose\n",
    "c = np.empty((scaled_query_dim1.size + scaled_query_dim2.size,))\n",
    "c[0::2] = scaled_query_dim1\n",
    "c[1::2] = scaled_query_dim2\n",
    "\n",
    "new_query = Variable(torch.Tensor([c]))\n",
    "print(new_query)\n",
    "\n",
    "answer = model(new_query)\n",
    "print('\\n raw answer:\\n',answer)\n",
    "print('\\n scaled up again:\\n')\n",
    "print(answer[0][0]*dim1_std + dim1_mean)\n",
    "print(answer[0][1]*dim2_std + dim2_mean)"
   ]
  }
 ],
 "metadata": {
  "kernelspec": {
   "display_name": "Python 3",
   "language": "python",
   "name": "python3"
  },
  "language_info": {
   "codemirror_mode": {
    "name": "ipython",
    "version": 3
   },
   "file_extension": ".py",
   "mimetype": "text/x-python",
   "name": "python",
   "nbconvert_exporter": "python",
   "pygments_lexer": "ipython3",
   "version": "3.7.6"
  }
 },
 "nbformat": 4,
 "nbformat_minor": 4
}
