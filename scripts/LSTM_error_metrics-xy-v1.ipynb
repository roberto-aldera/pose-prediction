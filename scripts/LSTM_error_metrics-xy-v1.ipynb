{
 "cells": [
  {
   "cell_type": "code",
   "execution_count": 2,
   "metadata": {},
   "outputs": [],
   "source": [
    "import numpy as np\n",
    "import torch\n",
    "from torchvision import transforms\n",
    "from torch import nn, optim\n",
    "from torch.utils.data import Dataset, DataLoader\n",
    "from torch.utils.data.dataset import TensorDataset\n",
    "from torch.autograd import Variable \n",
    "torch.manual_seed(1)\n",
    "np.random.seed(1)\n",
    "import matplotlib.pyplot as plt\n",
    "\n",
    "# For importing poses\n",
    "import sys\n",
    "import os\n",
    "sys.path.append(os.path.expanduser(\"/workspace/code/pose-prediction/src/functions\"))\n",
    "sys.path.append(os.path.expanduser(\"/workspace/code/pose-prediction/src/helpers\"))"
   ]
  },
  {
   "cell_type": "code",
   "execution_count": 3,
   "metadata": {},
   "outputs": [
    {
     "name": "stdout",
     "output_type": "stream",
     "text": [
      "Loading poses from monolithic file...\n",
      "reading RO_relative_poses_path: /workspace/data/pose-prediction-odometry/tmp-testing/ro_relative_poses.monolithic\n",
      "importing  protobuf.transform.pbSerialisedTransform_pb2\n",
      "Finished reading 8421 poses.\n"
     ]
    }
   ],
   "source": [
    "from load_poses import get_poses_from_file\n",
    "dataset_path = \"/workspace/data/pose-prediction-odometry/tmp-testing/\"\n",
    "RO_se3s,RO_timestamps = get_poses_from_file(dataset_path)"
   ]
  },
  {
   "cell_type": "code",
   "execution_count": 4,
   "metadata": {},
   "outputs": [
    {
     "name": "stdout",
     "output_type": "stream",
     "text": [
      "Train set size: 5400\n",
      "Test set size: 600\n"
     ]
    }
   ],
   "source": [
    "# Crop poses - there was a dud pose at 6342, this is a quick fix for now\n",
    "max_poses = 6000\n",
    "RO_se3s = RO_se3s[:max_poses]\n",
    "RO_timestamps = RO_timestamps[:max_poses]\n",
    "\n",
    "train_test_ratio = 0.9\n",
    "split_idx = int(len(RO_timestamps)*train_test_ratio)\n",
    "train_RO_se3s = RO_se3s[:split_idx]\n",
    "train_RO_timestamps = RO_timestamps[:split_idx]\n",
    "test_RO_se3s = RO_se3s[split_idx:]\n",
    "test_RO_timestamps = RO_timestamps[split_idx:]\n",
    "print(\"Train set size:\",len(train_RO_timestamps))\n",
    "print(\"Test set size:\",len(test_RO_timestamps))"
   ]
  },
  {
   "cell_type": "code",
   "execution_count": 204,
   "metadata": {},
   "outputs": [],
   "source": [
    "t_x_data = np.zeros(len(train_RO_timestamps))\n",
    "t_y_data = np.zeros(len(train_RO_timestamps))\n",
    "t_theta_data = np.zeros(len(train_RO_timestamps))\n",
    "\n",
    "for i in range(len(train_RO_timestamps)):\n",
    "    t_x_data[i] = train_RO_se3s[i][0,3]\n",
    "    t_y_data[i] = i #train_RO_se3s[i][1,3]\n",
    "    t_theta_data[i] = np.arccos(train_RO_se3s[i][0,0])\n",
    "    \n",
    "test_t_x_data = np.zeros(len(test_RO_timestamps))\n",
    "\n",
    "for i in range(len(test_RO_timestamps)):\n",
    "    test_t_x_data[i] = test_RO_se3s[i][0,3]"
   ]
  },
  {
   "cell_type": "code",
   "execution_count": 205,
   "metadata": {},
   "outputs": [],
   "source": [
    "dim1_data = t_x_data\n",
    "dim2_data = t_y_data\n",
    "dim1_data_scaled = (dim1_data - dim1_data.mean())/dim1_data.std()\n",
    "dim2_data_scaled = (dim2_data - dim2_data.mean())/dim2_data.std()"
   ]
  },
  {
   "cell_type": "code",
   "execution_count": 206,
   "metadata": {},
   "outputs": [
    {
     "name": "stdout",
     "output_type": "stream",
     "text": [
      "[[-1.37088955]\n",
      " [-1.36970395]\n",
      " [-1.3675547 ]\n",
      " ...\n",
      " [-1.37270585]\n",
      " [-1.38132449]\n",
      " [-1.37052975]]\n",
      "(5400, 1)\n",
      "[[-1.37088955 -1.73173009]\n",
      " [-1.36970395 -1.73108859]\n",
      " [-1.3675547  -1.73044709]\n",
      " ...\n",
      " [-1.37270585  1.73044709]\n",
      " [-1.38132449  1.73108859]\n",
      " [-1.37052975  1.73173009]]\n",
      "(5400, 2)\n",
      "dataX: torch.Size([5390, 10, 2])\n",
      "trainX: torch.Size([2695, 10, 2])\n",
      "valX: torch.Size([2695, 10, 2])\n",
      "dataY: torch.Size([5390, 2])\n",
      "trainY: torch.Size([2695, 2])\n",
      "valY: torch.Size([2695, 2])\n"
     ]
    }
   ],
   "source": [
    "from data_preparation import sliding_window_delta\n",
    "\n",
    "training_data = np.array(dim1_data_scaled.reshape(-1,1))\n",
    "print(training_data)\n",
    "print(training_data.shape)\n",
    "training_data = np.append(training_data, dim2_data_scaled.reshape(-1,1),axis=1)\n",
    "print(training_data)\n",
    "print(training_data.shape)\n",
    "\n",
    "seq_length = 10\n",
    "x, y = sliding_window_delta(training_data, seq_length)\n",
    "\n",
    "train_val_ratio = 0.5\n",
    "train_size = int(len(y) * train_val_ratio)\n",
    "\n",
    "dataX = Variable(torch.Tensor(np.array(x)))\n",
    "dataY = Variable(torch.Tensor(np.array(y)))\n",
    "\n",
    "trainX = Variable(torch.Tensor(np.array(x[0:train_size])))\n",
    "trainY = Variable(torch.Tensor(np.array(y[0:train_size])))\n",
    "\n",
    "valX = Variable(torch.Tensor(np.array(x[train_size:len(x)])))\n",
    "valY = Variable(torch.Tensor(np.array(y[train_size:len(y)])))\n",
    "\n",
    "print(\"dataX:\",dataX.shape)\n",
    "print(\"trainX:\",trainX.shape)\n",
    "print(\"valX:\",valX.shape)\n",
    "print(\"dataY:\",dataY.shape)\n",
    "print(\"trainY:\",trainY.shape)\n",
    "print(\"valY:\",valY.shape)\n",
    "\n",
    "# plt.plot(trainX[:,0,0])\n",
    "# plt.plot(trainX[:,0,1])"
   ]
  },
  {
   "cell_type": "code",
   "execution_count": 207,
   "metadata": {},
   "outputs": [],
   "source": [
    "class LSTM(nn.Module):\n",
    "    def __init__(self, input_size, output_dim, hidden_size, num_layers):\n",
    "        super(LSTM, self).__init__()\n",
    "        self.num_layers = num_layers\n",
    "        self.input_size = input_size\n",
    "        self.hidden_size = hidden_size\n",
    "        self.seq_length = seq_length\n",
    "        self.lstm = nn.LSTM(input_size=input_size, hidden_size=hidden_size,\n",
    "                            num_layers=num_layers, batch_first=True)\n",
    "        self.fc = nn.Linear(hidden_size, output_dim)\n",
    "\n",
    "    def forward(self, x):\n",
    "        # hidden and cell states\n",
    "        h_0 = Variable(torch.zeros(\n",
    "            self.num_layers, x.size(0), self.hidden_size))\n",
    "        c_0 = Variable(torch.zeros(\n",
    "            self.num_layers, x.size(0), self.hidden_size))\n",
    "        \n",
    "        # Propagate input through LSTM\n",
    "        ula, (h_out, _) = self.lstm(x, (h_0, c_0))\n",
    "        h_out = h_out.view(-1, self.hidden_size)\n",
    "        out = self.fc(h_out)\n",
    "        return out"
   ]
  },
  {
   "cell_type": "code",
   "execution_count": 209,
   "metadata": {},
   "outputs": [
    {
     "name": "stdout",
     "output_type": "stream",
     "text": [
      "torch.Size([2695, 2])\n",
      "torch.Size([2695, 2])\n",
      "Epoch: 0, loss: 0.00690\n",
      "Epoch: 50, loss: 0.00390\n",
      "Epoch: 100, loss: 0.00386\n",
      "Epoch: 150, loss: 0.00359\n",
      "Epoch: 200, loss: 0.00597\n",
      "Epoch: 250, loss: 0.00264\n",
      "Epoch: 300, loss: 0.00247\n"
     ]
    }
   ],
   "source": [
    "torch.manual_seed(0)\n",
    "\n",
    "num_epochs = 301\n",
    "learning_rate = 0.01\n",
    "\n",
    "input_size = 2\n",
    "output_size = 2\n",
    "hidden_size = 30\n",
    "num_layers = 1\n",
    "\n",
    "lstm = LSTM(input_size, output_size, hidden_size, num_layers)\n",
    "\n",
    "criterion = torch.nn.MSELoss()    # mean-squared error for regression\n",
    "optimizer = torch.optim.Adam(lstm.parameters(), lr=learning_rate)\n",
    "#optimizer = torch.optim.SGD(lstm.parameters(), lr=learning_rate)\n",
    "\n",
    "print(lstm(trainX).size())\n",
    "print(trainY.size())\n",
    "\n",
    "# Train the model\n",
    "for epoch in range(num_epochs):\n",
    "    outputs = lstm(trainX).reshape(-1,output_size)\n",
    "    optimizer.zero_grad()\n",
    "    \n",
    "    # obtain the loss function\n",
    "    loss = criterion(outputs, trainY)\n",
    "    \n",
    "    loss.backward()\n",
    "    \n",
    "    optimizer.step()\n",
    "    if epoch % 50 == 0:\n",
    "        print(\"Epoch: %d, loss: %1.5f\" % (epoch, loss.item()))"
   ]
  },
  {
   "cell_type": "code",
   "execution_count": 210,
   "metadata": {},
   "outputs": [
    {
     "name": "stdout",
     "output_type": "stream",
     "text": [
      "2\n",
      "torch.Size([2695, 2])\n",
      "torch.Size([2695, 2])\n",
      "torch.Size([2695, 2])\n"
     ]
    }
   ],
   "source": [
    "print(output_size)\n",
    "print(lstm(trainX).shape)\n",
    "print(outputs.size())\n",
    "print(trainY.size())"
   ]
  },
  {
   "cell_type": "code",
   "execution_count": 211,
   "metadata": {},
   "outputs": [
    {
     "name": "stdout",
     "output_type": "stream",
     "text": [
      "[[0 1]\n",
      " [2 3]\n",
      " [4 5]\n",
      " [6 7]] shape: (4, 2)\n",
      "[[2 3]\n",
      " [4 5]\n",
      " [6 7]\n",
      " [8 9]] shape: (4, 2)\n"
     ]
    }
   ],
   "source": [
    "def appender(input_seq,new_val):\n",
    "    \"\"\"\n",
    "    Append value to input sequence (treat as arrays)\n",
    "    \"\"\"\n",
    "    import numpy as np\n",
    "\n",
    "    input_seq = np.delete(input_seq,0,axis=0)\n",
    "    updated_input_seq = np.append(input_seq,new_val).reshape(-1,2) # hacky, remove this 2\n",
    "    return updated_input_seq\n",
    "my_arr = np.array([[0,1],[2,3],[4,5],[6,7]])\n",
    "print(my_arr,\"shape:\",my_arr.shape)\n",
    "my_new_arr = appender(my_arr,[8,9])\n",
    "print(my_new_arr,\"shape:\",my_new_arr.shape)"
   ]
  },
  {
   "cell_type": "code",
   "execution_count": 212,
   "metadata": {},
   "outputs": [],
   "source": [
    "def get_predictions_out_to_horizon(model,horizon,input_seq,future_val):\n",
    "    \"\"\"\n",
    "    Predict values out to a horizon\n",
    "    \"\"\"\n",
    "    import numpy as np\n",
    "    import torch\n",
    "    from torch.autograd import Variable \n",
    "\n",
    "    cumulative_predictions = np.empty(0)\n",
    "    cumulative_predictions = np.append(cumulative_predictions,future_val)\n",
    "#     print(\"Future val:\",future_val,'shape:',future_val.shape)\n",
    "#     print(\"Input seq:\",input_seq,'shape:',input_seq.shape)\n",
    "    for i in range(horizon-1):\n",
    "        updated_input_seq = appender(input_seq,future_val)\n",
    "        updated_input_seq = updated_input_seq[np.newaxis,...]\n",
    "        updated_input_seq = Variable(torch.tensor(updated_input_seq))\n",
    "        next_prediction = model(updated_input_seq)\n",
    "\n",
    "        # Update states\n",
    "        input_seq = updated_input_seq\n",
    "        future_val = next_prediction.data.numpy()+updated_input_seq[0][-1].data.numpy()\n",
    "        cumulative_predictions = np.append(cumulative_predictions,future_val)\n",
    "    return cumulative_predictions.reshape(-1,2)\n",
    "\n",
    "# prediction_start_index = 160 #int(len(dataY)*train_test_ratio) + 10 #160\n",
    "# horizon = 40\n",
    "# lstm.eval()\n",
    "# input_seq = dataX[prediction_start_index]\n",
    "# future_val = lstm(dataX[[prediction_start_index]]).data.numpy()[0][0] + dataX[prediction_start_index][-1].data.numpy()\n",
    "\n",
    "# print(lstm(dataX[[prediction_start_index]]),'shape:',lstm(dataX[[prediction_start_index]]).shape)\n",
    "# print(lstm(dataX[[prediction_start_index]]).data.numpy(),'shape:',lstm(dataX[[prediction_start_index]]).data.numpy().shape)\n",
    "\n",
    "# tmp_prev_data = dataX[prediction_start_index][-1].data.reshape(1,-1)\n",
    "# print(\"Data from tm1\",tmp_prev_data,\"shape:\",tmp_prev_data.shape)\n",
    "# future_val = lstm(dataX[[prediction_start_index]]).data.numpy()[0][0] + tmp_prev_data\n",
    "\n",
    "# print(future_val,'shape:',future_val.shape)\n",
    "\n",
    "# predictions = get_predictions_out_to_horizon(lstm,horizon,input_seq,future_val)\n",
    "# print(predictions,\"shape:\",predictions.shape)\n",
    "# dim1_predictions_rescaled = predictions[:,0]*dim1_data.std()+dim1_data.mean()\n",
    "# dim2_predictions_rescaled = predictions[:,1]*dim2_data.std()+dim2_data.mean()\n",
    "# plt.plot(dim1_predictions_rescaled)\n",
    "# plt.plot(dim2_predictions_rescaled)\n",
    "\n",
    "# tmpy = dataX.data.numpy()[:,-1,1]\n",
    "# print(tmpy,\"shape:\",tmpy.shape)\n",
    "# # plt.plot(tmpy)\n",
    "# tmpy = dataY.data.numpy()[:,1]\n",
    "# print(tmpy,\"shape:\",tmpy.shape)"
   ]
  },
  {
   "cell_type": "code",
   "execution_count": 213,
   "metadata": {},
   "outputs": [
    {
     "data": {
      "text/plain": [
       "<matplotlib.legend.Legend at 0x7f52ed1ccc10>"
      ]
     },
     "execution_count": 213,
     "metadata": {},
     "output_type": "execute_result"
    },
    {
     "data": {
      "image/png": "[encoded data removed]",
      "text/plain": [
       "<Figure size 1080x360 with 1 Axes>"
      ]
     },
     "metadata": {
      "needs_background": "light"
     },
     "output_type": "display_data"
    }
   ],
   "source": [
    "# from prediction import appender, get_predictions_out_to_horizon\n",
    "prediction_start_index = 160 #int(len(dataY)*train_test_ratio) + 10 #160\n",
    "horizon = 40\n",
    "lstm.eval()\n",
    "input_seq = dataX[prediction_start_index]\n",
    "future_val = lstm(dataX[[prediction_start_index]]).data.numpy()[0][0] + dataX[prediction_start_index][-1].data.reshape(1,-1)\n",
    "predictions = get_predictions_out_to_horizon(lstm,horizon,input_seq,future_val)\n",
    "\n",
    "# Scale outputs up again after the inputs had been scaled down - using training data ONLY (dim1_data)\n",
    "data_predict_rescaled = predictions*dim1_data.std()+dim1_data.mean()\n",
    "gt_x_vals_rescaled = (dataX.data.numpy()[:,-1,0]+dataY.data.numpy()[:,0])*dim1_data.std()+dim1_data.mean()\n",
    "\n",
    "dim1_predictions_rescaled = predictions[:,0]*dim1_data.std()+dim1_data.mean()\n",
    "dim2_predictions_rescaled = predictions[:,1]*dim2_data.std()+dim2_data.mean()\n",
    "\n",
    "x_axis_ticks_horizon = np.linspace(prediction_start_index,prediction_start_index+horizon-1,horizon)\n",
    "x_axis_ticks_tm1 = np.linspace(prediction_start_index-1,prediction_start_index+horizon-1,horizon+1)\n",
    "\n",
    "plt.figure(figsize=(15,5))\n",
    "plt.axvline(x=train_size, c='r', linestyle='--',label=\"test data start\")\n",
    "plt.axvline(x=prediction_start_index, c='k', linestyle='--',label=\"prediction start\")\n",
    "view_size = horizon+10\n",
    "x_centre = prediction_start_index #len(dataY)*train_test_ratio\n",
    "plt.xlim(x_centre-view_size,x_centre+view_size)\n",
    "plt.plot(gt_x_vals_rescaled[:prediction_start_index],'b.-',label=\"Ground truth\")\n",
    "plt.plot(x_axis_ticks_tm1,gt_x_vals_rescaled[prediction_start_index-1:prediction_start_index+horizon],'b--',label=\"Ground truth t+N\")\n",
    "plt.plot(x_axis_ticks_horizon,dim1_predictions_rescaled,'.-',color=\"orange\",label=\"Prediction\")\n",
    "\n",
    "title_string = 'Time-Series Prediction for pose in x, '+'hidden_size='+str(hidden_size) \\\n",
    "             +' seq_length='+str(seq_length)\n",
    "plt.title(title_string)\n",
    "plt.grid()\n",
    "plt.legend()"
   ]
  },
  {
   "cell_type": "code",
   "execution_count": 214,
   "metadata": {},
   "outputs": [
    {
     "data": {
      "text/plain": [
       "<matplotlib.legend.Legend at 0x7f52ed15c950>"
      ]
     },
     "execution_count": 214,
     "metadata": {},
     "output_type": "execute_result"
    },
    {
     "data": {
      "image/png": "[encoded data removed]",
      "text/plain": [
       "<Figure size 1080x360 with 1 Axes>"
      ]
     },
     "metadata": {
      "needs_background": "light"
     },
     "output_type": "display_data"
    }
   ],
   "source": [
    "gt_y_vals_rescaled = (dataX.data.numpy()[:,-1,1]+dataY.data.numpy()[:,1])*dim2_data.std()+dim2_data.mean()\n",
    "\n",
    "plt.figure(figsize=(15,5))\n",
    "plt.axvline(x=train_size, c='r', linestyle='--',label=\"test data start\")\n",
    "plt.axvline(x=prediction_start_index, c='k', linestyle='--',label=\"prediction start\")\n",
    "view_size = horizon+10\n",
    "x_centre = prediction_start_index #len(dataY)*train_test_ratio\n",
    "plt.xlim(x_centre-view_size,x_centre+view_size)\n",
    "plt.plot(gt_y_vals_rescaled[:prediction_start_index],'b.-',label=\"Ground truth\")\n",
    "plt.plot(x_axis_ticks_tm1,gt_y_vals_rescaled[prediction_start_index-1:prediction_start_index+horizon],'b--',label=\"Ground truth t+N\")\n",
    "plt.plot(x_axis_ticks_horizon,dim2_predictions_rescaled,'.-',color=\"orange\",label=\"Prediction\")\n",
    "\n",
    "title_string = 'Time-Series Prediction for pose in y, '+'hidden_size='+str(hidden_size) \\\n",
    "             +' seq_length='+str(seq_length)\n",
    "plt.title(title_string)\n",
    "plt.grid()\n",
    "plt.legend()"
   ]
  },
  {
   "cell_type": "code",
   "execution_count": 13,
   "metadata": {},
   "outputs": [
    {
     "name": "stdout",
     "output_type": "stream",
     "text": [
      "09-06-2020-13-40-04\n",
      "Mean short RMSE: 0.12775371273166877\n",
      "Mean med RMSE: 0.51327513330551\n",
      "Mean long RMSE: 1.0445225839456647\n"
     ]
    }
   ],
   "source": [
    "import datetime\n",
    "from time import strftime\n",
    "print(datetime.datetime.now().strftime(\"%d-%m-%Y-%H-%M-%S\"))\n",
    "\n",
    "from metrics import get_error_metrics\n",
    "\n",
    "save_plots = True\n",
    "prediction_start_index = 140 #int(len(dataY)*train_test_ratio) - 50\n",
    "horizon = 40 -1 # -1 because we do first step outside the loop\n",
    "num_frames_to_render = 50\n",
    "all_short_rmse = []\n",
    "all_med_rmse = []\n",
    "all_long_rmse = []\n",
    "\n",
    "experiment_dir = '/workspace/data/pose-prediction-odometry/'+datetime.datetime.now().strftime(\"%d-%m-%Y-%H-%M-%S\")\n",
    "if save_plots:\n",
    "#     os.mkdir(experiment_dir)\n",
    "    for frame in range(prediction_start_index,prediction_start_index+num_frames_to_render):\n",
    "        prediction_start_index = frame\n",
    "        lstm.eval()\n",
    "        input_seq = dataX[prediction_start_index]\n",
    "        future_val = lstm(dataX[[prediction_start_index]]).data.numpy()[0][0] + dataX[prediction_start_index][-1].data.numpy()\n",
    "        predictions = get_predictions_out_to_horizon(lstm,horizon,input_seq,future_val)\n",
    "\n",
    "        # Scale outputs up again after the inputs had been scaled down - using training data ONLY (dim1_data)\n",
    "        data_predict_rescaled = predictions*dim1_data.std()+dim1_data.mean()\n",
    "        gt_vals_rescaled = (dataX.data.numpy()[:,-1]+dataY.data.numpy())*dim1_data.std()+dim1_data.mean()\n",
    "\n",
    "        # Error metrics\n",
    "        gt_predictions = gt_vals_rescaled[prediction_start_index:prediction_start_index+horizon,0]\n",
    "        model_predictions = data_predict_rescaled\n",
    "        short_rmse, med_rmse, long_rmse = get_error_metrics(gt_predictions,model_predictions)\n",
    "        all_short_rmse.append(short_rmse)\n",
    "        all_med_rmse.append(med_rmse)\n",
    "        all_long_rmse.append(long_rmse)\n",
    "        \n",
    "        x_axis_ticks_horizon = np.linspace(prediction_start_index,prediction_start_index+horizon-1,horizon)\n",
    "        x_axis_ticks_tm1 = np.linspace(prediction_start_index-1,prediction_start_index+horizon-1,horizon+1)\n",
    "\n",
    "        fig = plt.figure(figsize=(15,5))\n",
    "        plt.axvline(x=train_size, c='r', linestyle='--',label=\"test data start\")\n",
    "        plt.axvline(x=prediction_start_index, c='k', linestyle='--',label=\"prediction start\")\n",
    "        view_size = horizon+10\n",
    "        x_centre = prediction_start_index #len(dataY)*train_test_ratio\n",
    "        plt.xlim(x_centre-view_size,x_centre+view_size)\n",
    "        plt.plot(gt_vals_rescaled[:prediction_start_index,0],'b.-',label=\"Ground truth\")\n",
    "        plt.plot(x_axis_ticks_tm1,gt_vals_rescaled[prediction_start_index-1:prediction_start_index+horizon,0],'b--',label=\"Ground truth t+N\")\n",
    "        plt.plot(x_axis_ticks_horizon,data_predict_rescaled,'.-',color=\"orange\",label=\"Prediction\")\n",
    "\n",
    "        title_string = 'Time-Series Prediction for pose in x, '+'hidden_size='+str(hidden_size) \\\n",
    "                     +' seq_length='+str(seq_length)\n",
    "        plt.title(title_string)\n",
    "        plt.grid()\n",
    "        plt.legend()\n",
    "#         plt.savefig(\"%s%s%i%s%i%s\" % (experiment_dir,'/hiddensize-',hidden_size,'-frame-',frame,'.png'), \\\n",
    "#                 bbox_inches='tight')\n",
    "        plt.close(fig)\n",
    "print(\"Mean short RMSE:\",np.array(all_short_rmse).mean())\n",
    "print(\"Mean med RMSE:\",np.array(all_med_rmse).mean())\n",
    "print(\"Mean long RMSE:\",np.array(all_long_rmse).mean())\n"
   ]
  },
  {
   "cell_type": "code",
   "execution_count": null,
   "metadata": {},
   "outputs": [],
   "source": []
  }
 ],
 "metadata": {
  "kernelspec": {
   "display_name": "Python 3",
   "language": "python",
   "name": "python3"
  },
  "language_info": {
   "codemirror_mode": {
    "name": "ipython",
    "version": 3
   },
   "file_extension": ".py",
   "mimetype": "text/x-python",
   "name": "python",
   "nbconvert_exporter": "python",
   "pygments_lexer": "ipython3",
   "version": "3.7.6"
  }
 },
 "nbformat": 4,
 "nbformat_minor": 4
}
