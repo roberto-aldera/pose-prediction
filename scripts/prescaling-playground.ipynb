{
 "cells": [
  {
   "cell_type": "code",
   "execution_count": 3,
   "metadata": {},
   "outputs": [
    {
     "name": "stdout",
     "output_type": "stream",
     "text": [
      "x: tensor([[[ 0.6614,  0.2669]],\n",
      "\n",
      "        [[ 0.0617,  0.6213]],\n",
      "\n",
      "        [[-0.4519, -0.1661]]])\n",
      "tensor(0.4641)\n",
      "tensor(0.3415)\n",
      "tensor(-0.3090)\n",
      "tensor(0.2789)\n",
      "tensor(0.3957)\n",
      "tensor(0.2021)\n",
      "\n",
      "norm x: tensor([[[ 0.7071, -0.7071]],\n",
      "\n",
      "        [[-0.7071,  0.7071]],\n",
      "\n",
      "        [[-0.7071,  0.7071]]])\n",
      "\n",
      "dim1_mean: tensor(-2.9802e-08)\n",
      "dim2_mean: tensor(-2.9802e-08)\n",
      "dim3_mean: tensor(2.9802e-08)\n",
      "\n",
      "dim1_std: tensor(1.)\n",
      "dim2_std: tensor(1.)\n",
      "dim3_std: tensor(1.)\n"
     ]
    }
   ],
   "source": [
    "import torch\n",
    "import torchvision\n",
    "\n",
    "torch.manual_seed(1)\n",
    "x = torch.randn(3,1,2)\n",
    "print('x:',x)\n",
    "# first column distinguishes feature types (x,y,theta), last column is number of poses\n",
    "dim1_mean = x[0][0][:].mean()\n",
    "dim2_mean = x[1][0][:].mean()\n",
    "dim3_mean = x[2][0][:].mean()\n",
    "\n",
    "dim1_std = x[0][0][:].std()\n",
    "dim2_std = x[1][0][:].std()\n",
    "dim3_std = x[2][0][:].std()\n",
    "\n",
    "print(dim1_mean)\n",
    "print(dim2_mean)\n",
    "print(dim3_mean)\n",
    "\n",
    "print(dim1_std)\n",
    "print(dim2_std)\n",
    "print(dim3_std)\n",
    "\n",
    "norm = torchvision.transforms.Normalize((dim1_mean, dim2_mean, dim3_mean), (dim1_std,dim2_std,dim3_std))\n",
    "# norm = torchvision.transforms.Normalize((0,0,0), (1,1,1))\n",
    "\n",
    "# norm = torchvision.transforms.Normalize((0.5,0.5,0.5), (0.5, 0.5, 0.5))\n",
    "\n",
    "out = norm(x)\n",
    "print('\\nnorm x:',out)\n",
    "print('\\ndim1_mean:',out[0][0][:].mean())\n",
    "print('dim2_mean:',out[1][0][:].mean())\n",
    "print('dim3_mean:',out[2][0][:].mean())\n",
    "\n",
    "print('\\ndim1_std:',out[0][0][:].std())\n",
    "print('dim2_std:',out[1][0][:].std())\n",
    "print('dim3_std:',out[2][0][:].std())\n"
   ]
  },
  {
   "cell_type": "code",
   "execution_count": null,
   "metadata": {},
   "outputs": [],
   "source": []
  }
 ],
 "metadata": {
  "kernelspec": {
   "display_name": "Python 3",
   "language": "python",
   "name": "python3"
  },
  "language_info": {
   "codemirror_mode": {
    "name": "ipython",
    "version": 3
   },
   "file_extension": ".py",
   "mimetype": "text/x-python",
   "name": "python",
   "nbconvert_exporter": "python",
   "pygments_lexer": "ipython3",
   "version": "3.7.6"
  }
 },
 "nbformat": 4,
 "nbformat_minor": 4
}
