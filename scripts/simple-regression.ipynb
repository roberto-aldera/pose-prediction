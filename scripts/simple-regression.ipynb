{
 "cells": [
  {
   "cell_type": "code",
   "execution_count": 3,
   "metadata": {},
   "outputs": [],
   "source": [
    "import torch \n",
    "from torch.autograd import Variable \n",
    "\n",
    "x_data = Variable(torch.Tensor([[1.0], [2.0], [3.0]])) \n",
    "y_data = Variable(torch.Tensor([[2.0], [4.0], [6.0]])) \n",
    "\n",
    "class LinearRegressionModel(torch.nn.Module): \n",
    "\n",
    "    def __init__(self): \n",
    "        super(LinearRegressionModel, self).__init__() \n",
    "        self.linear = torch.nn.Linear(1, 1) # One in and one out \n",
    "\n",
    "    def forward(self, x): \n",
    "        y_pred = self.linear(x) \n",
    "        return y_pred "
   ]
  },
  {
   "cell_type": "code",
   "execution_count": 26,
   "metadata": {},
   "outputs": [
    {
     "name": "stdout",
     "output_type": "stream",
     "text": [
      "epoch 0, loss 34.49501419067383\n",
      "epoch 1, loss 15.361690521240234\n",
      "epoch 2, loss 6.8440022468566895\n",
      "epoch 3, loss 3.0520896911621094\n",
      "epoch 4, loss 1.3639627695083618\n",
      "epoch 5, loss 0.6123796105384827\n",
      "epoch 6, loss 0.2777223289012909\n",
      "epoch 7, loss 0.1286688894033432\n",
      "epoch 8, loss 0.06224194914102554\n",
      "epoch 9, loss 0.03259953483939171\n",
      "predict (after training) 4 tensor(7.7891)\n"
     ]
    }
   ],
   "source": [
    "# our model \n",
    "our_model = LinearRegressionModel() \n",
    "\n",
    "criterion = torch.nn.MSELoss(size_average = False) \n",
    "optimizer = torch.optim.SGD(our_model.parameters(), lr = 0.01) \n",
    "losses = []\n",
    "\n",
    "for epoch in range(10): \n",
    "\n",
    "    # Forward pass: Compute predicted y by passing \n",
    "    # x to the model \n",
    "    pred_y = our_model(x_data) \n",
    "\n",
    "    # Compute and print loss \n",
    "    loss = criterion(pred_y, y_data) \n",
    "\n",
    "    # Zero gradients, perform a backward pass, \n",
    "    # and update the weights. \n",
    "    optimizer.zero_grad() \n",
    "    loss.backward() \n",
    "    optimizer.step() \n",
    "    losses.append(loss)\n",
    "    print('epoch {}, loss {}'.format(epoch, loss))\n",
    "\n",
    "# Check how we do on an unseen value (test)\n",
    "new_var = Variable(torch.Tensor([[4.0]])) \n",
    "pred_y = our_model(new_var) \n",
    "print(\"predict (after training)\", 4, our_model(new_var).data[0][0]) \n"
   ]
  },
  {
   "cell_type": "code",
   "execution_count": 24,
   "metadata": {},
   "outputs": [
    {
     "data": {
      "text/plain": [
       "[<matplotlib.lines.Line2D at 0x7f44bd0e91d0>]"
      ]
     },
     "execution_count": 24,
     "metadata": {},
     "output_type": "execute_result"
    },
    {
     "data": {
      "image/png": "[encoded data removed]",
      "text/plain": [
       "<Figure size 432x288 with 1 Axes>"
      ]
     },
     "metadata": {
      "needs_background": "light"
     },
     "output_type": "display_data"
    }
   ],
   "source": [
    "from matplotlib import pyplot as plt\n",
    "plt.plot(losses,'-*')"
   ]
  }
 ],
 "metadata": {
  "kernelspec": {
   "display_name": "Python 3",
   "language": "python",
   "name": "python3"
  },
  "language_info": {
   "codemirror_mode": {
    "name": "ipython",
    "version": 3
   },
   "file_extension": ".py",
   "mimetype": "text/x-python",
   "name": "python",
   "nbconvert_exporter": "python",
   "pygments_lexer": "ipython3",
   "version": "3.7.6"
  }
 },
 "nbformat": 4,
 "nbformat_minor": 4
}
