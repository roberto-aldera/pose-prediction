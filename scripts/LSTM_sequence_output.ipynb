{
 "cells": [
  {
   "cell_type": "code",
   "execution_count": 2,
   "metadata": {},
   "outputs": [],
   "source": [
    "import numpy as np\n",
    "import torch\n",
    "from torchvision import transforms\n",
    "from torch import nn, optim\n",
    "from torch.utils.data import Dataset, DataLoader\n",
    "from torch.utils.data.dataset import TensorDataset\n",
    "from torch.autograd import Variable \n",
    "torch.manual_seed(1)\n",
    "np.random.seed(1)\n",
    "import matplotlib.pyplot as plt\n",
    "\n",
    "# For importing poses\n",
    "import sys\n",
    "import os\n",
    "sys.path.append(os.path.expanduser(\"/workspace/code/pose-prediction/src/functions\"))"
   ]
  },
  {
   "cell_type": "code",
   "execution_count": 3,
   "metadata": {},
   "outputs": [
    {
     "name": "stdout",
     "output_type": "stream",
     "text": [
      "Loading poses from monolithic file...\n",
      "reading RO_relative_poses_path: /workspace/data/pose-prediction-odometry/tmp-testing/ro_relative_poses.monolithic\n",
      "importing  protobuf.transform.pbSerialisedTransform_pb2\n",
      "Finished reading 8421 poses.\n"
     ]
    }
   ],
   "source": [
    "from load_poses import get_poses_from_file\n",
    "dataset_path = \"/workspace/data/pose-prediction-odometry/tmp-testing/\"\n",
    "RO_se3s,RO_timestamps = get_poses_from_file(dataset_path)"
   ]
  },
  {
   "cell_type": "code",
   "execution_count": 4,
   "metadata": {},
   "outputs": [
    {
     "name": "stdout",
     "output_type": "stream",
     "text": [
      "Train set size: 5400\n",
      "Test set size: 600\n"
     ]
    }
   ],
   "source": [
    "# Crop poses - there was a dud pose at 6342, this is a quick fix for now\n",
    "max_poses = 6000\n",
    "RO_se3s = RO_se3s[:max_poses]\n",
    "RO_timestamps = RO_timestamps[:max_poses]\n",
    "\n",
    "train_test_ratio = 0.9\n",
    "split_idx = int(len(RO_timestamps)*train_test_ratio)\n",
    "train_RO_se3s = RO_se3s[:split_idx]\n",
    "train_RO_timestamps = RO_timestamps[:split_idx]\n",
    "test_RO_se3s = RO_se3s[split_idx:]\n",
    "test_RO_timestamps = RO_timestamps[split_idx:]\n",
    "print(\"Train set size:\",len(train_RO_timestamps))\n",
    "print(\"Test set size:\",len(test_RO_timestamps))"
   ]
  },
  {
   "cell_type": "code",
   "execution_count": 5,
   "metadata": {},
   "outputs": [],
   "source": [
    "t_x_data = np.zeros(len(train_RO_timestamps))\n",
    "t_y_data = np.zeros(len(train_RO_timestamps))\n",
    "t_theta_data = np.zeros(len(train_RO_timestamps))\n",
    "\n",
    "for i in range(len(train_RO_timestamps)):\n",
    "    t_x_data[i] = train_RO_se3s[i][0,3]\n",
    "    t_y_data[i] = train_RO_se3s[i][1,3]\n",
    "    t_theta_data[i] = np.arccos(train_RO_se3s[i][0,0])\n",
    "    \n",
    "test_t_x_data = np.zeros(len(test_RO_timestamps))\n",
    "\n",
    "for i in range(len(test_RO_timestamps)):\n",
    "    test_t_x_data[i] = test_RO_se3s[i][0,3]"
   ]
  },
  {
   "cell_type": "code",
   "execution_count": 6,
   "metadata": {},
   "outputs": [],
   "source": [
    "dim1_data = t_x_data\n",
    "dim1_data_scaled = (dim1_data - dim1_data.mean())/dim1_data.std()"
   ]
  },
  {
   "cell_type": "code",
   "execution_count": 7,
   "metadata": {},
   "outputs": [
    {
     "name": "stdout",
     "output_type": "stream",
     "text": [
      "[[-1.37243781]\n",
      " [-1.37034866]\n",
      " [-1.37408779]\n",
      " [-1.3723779 ]\n",
      " [-1.36772723]\n",
      " [-1.37081726]\n",
      " [-1.3759234 ]\n",
      " [-1.36756427]\n",
      " [-1.37343469]\n",
      " [-1.36675562]\n",
      " [-1.36954274]\n",
      " [-1.377528  ]\n",
      " [-1.35999815]\n",
      " [-1.37338873]\n",
      " [-1.3702089 ]\n",
      " [-1.37445999]\n",
      " [-1.36617058]\n",
      " [-1.36802747]\n",
      " [-1.36839466]\n",
      " [-1.36787913]]\n",
      "dataX: torch.Size([5369, 10, 1])\n",
      "trainX: torch.Size([4563, 10, 1])\n",
      "testX: torch.Size([806, 10, 1])\n",
      "dataY: torch.Size([5369, 20, 1])\n",
      "trainY: torch.Size([4563, 20, 1])\n",
      "testY: torch.Size([806, 20, 1])\n"
     ]
    }
   ],
   "source": [
    "def sliding_windows(data, seq_length, output_length):\n",
    "    x = []\n",
    "    y = []\n",
    "\n",
    "    for i in range(len(data)-seq_length-(1+output_length)):\n",
    "        _x = data[i:(i+seq_length)]\n",
    "        _y = data[(i+seq_length):(i+seq_length+output_length)]\n",
    "#         _y = data[(i+seq_length)]\n",
    "        x.append(_x)\n",
    "        y.append(_y)\n",
    "\n",
    "    return np.array(x),np.array(y)\n",
    "\n",
    "training_data = dim1_data_scaled.reshape(-1,1)\n",
    "\n",
    "seq_length = 10\n",
    "output_length = 20\n",
    "x, y = sliding_windows(training_data, seq_length, output_length)\n",
    "\n",
    "print(y[0])\n",
    "\n",
    "train_test_ratio = 0.85\n",
    "train_size = int(len(y) * train_test_ratio)\n",
    "test_size = len(y) - train_size\n",
    "\n",
    "dataX = Variable(torch.Tensor(np.array(x)))\n",
    "dataY = Variable(torch.Tensor(np.array(y)))\n",
    "\n",
    "trainX = Variable(torch.Tensor(np.array(x[0:train_size])))\n",
    "trainY = Variable(torch.Tensor(np.array(y[0:train_size])))\n",
    "\n",
    "testX = Variable(torch.Tensor(np.array(x[train_size:len(x)])))\n",
    "testY = Variable(torch.Tensor(np.array(y[train_size:len(y)])))\n",
    "\n",
    "print(\"dataX:\",dataX.shape)\n",
    "print(\"trainX:\",trainX.shape)\n",
    "print(\"testX:\",testX.shape)\n",
    "print(\"dataY:\",dataY.shape)\n",
    "print(\"trainY:\",trainY.shape)\n",
    "print(\"testY:\",testY.shape)"
   ]
  },
  {
   "cell_type": "code",
   "execution_count": 8,
   "metadata": {},
   "outputs": [],
   "source": [
    "class LSTM(nn.Module):\n",
    "\n",
    "    def __init__(self, input_size, hidden_size, num_layers):\n",
    "        super(LSTM, self).__init__()\n",
    "        self.num_layers = num_layers\n",
    "        self.input_size = input_size\n",
    "        self.hidden_size = hidden_size\n",
    "        self.seq_length = seq_length\n",
    "        \n",
    "        self.lstm = nn.LSTM(input_size=input_size, hidden_size=hidden_size,\n",
    "                            num_layers=num_layers, batch_first=True)\n",
    "        \n",
    "        self.fc = nn.Linear(hidden_size, output_length)\n",
    "\n",
    "    def forward(self, x):\n",
    "        # hidden and cell states\n",
    "        h_0 = Variable(torch.zeros(\n",
    "            self.num_layers, x.size(0), self.hidden_size))\n",
    "        \n",
    "        c_0 = Variable(torch.zeros(\n",
    "            self.num_layers, x.size(0), self.hidden_size))\n",
    "        \n",
    "        # Debugging\n",
    "#         print(\"x\",x.shape,\"\\n\",x)\n",
    "#         print(\"h_0\",h_0.shape,\"\\n\",h_0)\n",
    "#         print(\"c_0\",c_0.shape,\"\\n\",c_0)\n",
    "        \n",
    "        # Propagate input through LSTM\n",
    "        ula, (h_out, _) = self.lstm(x, (h_0, c_0))\n",
    "        \n",
    "        h_out = h_out.view(-1, self.hidden_size)\n",
    "        \n",
    "        out = self.fc(h_out)\n",
    "        \n",
    "        return out"
   ]
  },
  {
   "cell_type": "code",
   "execution_count": 9,
   "metadata": {},
   "outputs": [
    {
     "name": "stdout",
     "output_type": "stream",
     "text": [
      "torch.Size([4563, 20])\n",
      "torch.Size([4563, 20, 1])\n",
      "Epoch: 0, loss: 1.01142\n",
      "Epoch: 50, loss: 0.13754\n",
      "Epoch: 100, loss: 0.09643\n",
      "Epoch: 150, loss: 0.08912\n",
      "Epoch: 200, loss: 0.08598\n",
      "Epoch: 250, loss: 0.08489\n",
      "Epoch: 300, loss: 0.08376\n",
      "Epoch: 350, loss: 0.08326\n",
      "Epoch: 400, loss: 0.08352\n",
      "Epoch: 450, loss: 0.08281\n"
     ]
    }
   ],
   "source": [
    "torch.manual_seed(0)\n",
    "\n",
    "num_epochs = 500\n",
    "learning_rate = 0.01\n",
    "\n",
    "input_size = 1\n",
    "hidden_size = 20\n",
    "num_layers = 1\n",
    "\n",
    "lstm = LSTM(input_size, hidden_size, num_layers)\n",
    "\n",
    "criterion = torch.nn.MSELoss()    # mean-squared error for regression\n",
    "optimizer = torch.optim.Adam(lstm.parameters(), lr=learning_rate)\n",
    "#optimizer = torch.optim.SGD(lstm.parameters(), lr=learning_rate)\n",
    "\n",
    "print(lstm(trainX).size())\n",
    "print(trainY.size())\n",
    "\n",
    "# Train the model\n",
    "for epoch in range(num_epochs):\n",
    "#     print(\"training x shape:\",trainX.shape)\n",
    "    outputs = lstm(trainX).reshape(-1,output_length,1)\n",
    "    optimizer.zero_grad()\n",
    "    \n",
    "    # obtain the loss function\n",
    "    loss = criterion(outputs, trainY)\n",
    "    \n",
    "    loss.backward()\n",
    "    \n",
    "    optimizer.step()\n",
    "    if epoch % 50 == 0:\n",
    "        print(\"Epoch: %d, loss: %1.5f\" % (epoch, loss.item()))"
   ]
  },
  {
   "cell_type": "code",
   "execution_count": 17,
   "metadata": {},
   "outputs": [
    {
     "data": {
      "image/png": "[encoded data removed]",
      "text/plain": [
       "<Figure size 1080x360 with 1 Axes>"
      ]
     },
     "metadata": {
      "needs_background": "light"
     },
     "output_type": "display_data"
    }
   ],
   "source": [
    "prediction_start_index = 153 #int(len(dataY)*train_test_ratio) + 10 #160\n",
    "\n",
    "lstm.eval()\n",
    "train_predict = lstm(dataX[[prediction_start_index]])\n",
    "\n",
    "# Scale outputs up again after the inputs had been scaled down - using training data ONLY (dim1_data)\n",
    "data_predict_rescaled = train_predict.data.numpy()*dim1_data.std()+dim1_data.mean()\n",
    "dataY_full_rescaled = dataY.data.numpy()*dim1_data.std()+dim1_data.mean()\n",
    "dataY_plot_rescaled = dataY[prediction_start_index].data.numpy()*dim1_data.std()+dim1_data.mean()\n",
    "\n",
    "x_axis_ticks = np.linspace(prediction_start_index,prediction_start_index+output_length,output_length)\n",
    "\n",
    "plt.figure(figsize=(15,5))\n",
    "plt.axvline(x=train_size, c='r', linestyle='--',label=\"test data start\")\n",
    "plt.axvline(x=prediction_start_index, c='k', linestyle='--',label=\"observation start\")\n",
    "view_size = 30\n",
    "x_centre = prediction_start_index #len(dataY)*train_test_ratio\n",
    "plt.xlim(x_centre-view_size,x_centre+view_size)\n",
    "plt.plot(dataY_full_rescaled[:prediction_start_index+1,0],'b-',label=\"Ground truth\")\n",
    "plt.plot(x_axis_ticks,dataY_plot_rescaled,'c.-',label=\"Ground truth t+N\")\n",
    "plt.plot(x_axis_ticks,data_predict_rescaled[0,:],'g.-',label=\"Prediction for t+N\")\n",
    "\n",
    "title_string = 'Time-Series Prediction for pose in x, '+'hidden_size='+str(hidden_size) \\\n",
    "             +' input_seq_length='+str(seq_length) +' output_seq_length='+str(output_length)\n",
    "plt.title(title_string)\n",
    "plt.xlabel('Sample index')\n",
    "plt.ylabel('Velocity (m/sample)')\n",
    "plt.grid()\n",
    "plt.legend()\n",
    "plt.show()"
   ]
  },
  {
   "cell_type": "code",
   "execution_count": 11,
   "metadata": {},
   "outputs": [
    {
     "name": "stdout",
     "output_type": "stream",
     "text": [
      "[0 2 4 6]\n",
      "[2 4 6 8]\n"
     ]
    }
   ],
   "source": [
    "def appender(input_seq,new_val):\n",
    "    \"\"\"\n",
    "    Append value to input sequence (treat as arrays)\n",
    "    \"\"\"\n",
    "    input_seq = np.delete(input_seq,0)\n",
    "    updated_input_seq = np.append(input_seq,new_val)\n",
    "    return updated_input_seq\n",
    "my_arr = np.array([0,2,4,6])\n",
    "print(my_arr)\n",
    "my_new_arr = appender(my_arr,8)\n",
    "print(my_new_arr)"
   ]
  },
  {
   "cell_type": "code",
   "execution_count": 12,
   "metadata": {},
   "outputs": [
    {
     "name": "stdout",
     "output_type": "stream",
     "text": [
      "04-06-2020-10-16-58\n"
     ]
    }
   ],
   "source": [
    "import datetime\n",
    "from time import strftime\n",
    "print(datetime.datetime.now().strftime(\"%d-%m-%Y-%H-%M-%S\"))\n",
    "\n",
    "save_plots = False\n",
    "prediction_start_index = 150 #int(len(dataY)*train_test_ratio) - 50#140 #140\n",
    "# prediction_horizon = 100\n",
    "num_frames_to_render = 100\n",
    "experiment_dir = '/workspace/data/pose-prediction-odometry/'+datetime.datetime.now().strftime(\"%d-%m-%Y-%H-%M-%S\")\n",
    "if save_plots:\n",
    "    os.mkdir(experiment_dir)\n",
    "    for frame in range(prediction_start_index,prediction_start_index+num_frames_to_render):\n",
    "        prediction_start_index = frame\n",
    "        \n",
    "#         input_seq = dataX[prediction_start_index]\n",
    "#         future_val = dataY.data.numpy()[prediction_start_index][0]\n",
    "\n",
    "#         output_collection = lstm(dataX[[prediction_start_index]])\n",
    "\n",
    "#         for i in range(prediction_horizon):\n",
    "#             updated_input_seq = appender(input_seq,future_val)\n",
    "#             updated_input_seq = updated_input_seq[np.newaxis,...,np.newaxis]\n",
    "#             updated_input_seq = Variable(torch.tensor(updated_input_seq))\n",
    "\n",
    "#             next_prediction = lstm(updated_input_seq)\n",
    "#             output_collection = torch.cat((output_collection, next_prediction), 0)\n",
    "\n",
    "#             # Update states\n",
    "#             input_seq = updated_input_seq\n",
    "#             future_val = next_prediction.data.numpy()\n",
    "           \n",
    "#         predictions = output_collection\n",
    "\n",
    "        lstm.eval()\n",
    "        predictions = lstm(dataX[[prediction_start_index]])\n",
    "\n",
    "        # Scale outputs up again after the inputs had been scaled down - using training data ONLY (dim1_data)\n",
    "        data_predict_rescaled = predictions.data.numpy()*dim1_data.std()+dim1_data.mean()\n",
    "        dataY_full_rescaled = dataY.data.numpy()*dim1_data.std()+dim1_data.mean()\n",
    "        dataY_plot_rescaled = dataY[prediction_start_index].data.numpy()*dim1_data.std()+dim1_data.mean()\n",
    "        x_axis_ticks = np.linspace(prediction_start_index,prediction_start_index+output_length,output_length)\n",
    "        \n",
    "        fig = plt.figure(figsize=(15,5))\n",
    "        plt.axvline(x=train_size, c='r', linestyle='--',label=\"test data start\")\n",
    "        plt.axvline(x=prediction_start_index, c='k', linestyle='--',label=\"observation start\")\n",
    "        view_size = 150\n",
    "        x_centre = prediction_start_index #len(dataY)*train_test_ratio\n",
    "        plt.xlim(x_centre-view_size,x_centre+view_size)\n",
    "        plt.ylim(-0.5,3)\n",
    "        plt.plot(dataY_full_rescaled[:prediction_start_index+1,0],'b-',label=\"Ground truth\")\n",
    "        plt.plot(x_axis_ticks,dataY_plot_rescaled,'c.-',label=\"Ground truth t+N\")\n",
    "        plt.plot(x_axis_ticks,data_predict_rescaled[0,:],'g.-',label=\"Prediction for t+N\")\n",
    "        \n",
    "#         plt.plot(dataY_plot_rescaled,label=\"Ground truth\")\n",
    "#         plt.plot(x_axis_ticks,data_predict_rescaled,label=\"LSTM Prediction\")\n",
    "        title_string = 'Time-Series Prediction for pose in x, '+'hidden_size='+str(hidden_size) \\\n",
    "                     +' input_seq_length='+str(seq_length) +' output_seq_length='+str(output_length)\n",
    "        plt.title(title_string)\n",
    "        plt.xlabel('Sample index')\n",
    "        plt.ylabel('Velocity (m/sample)')\n",
    "        plt.grid()\n",
    "        plt.legend()\n",
    "        plt.savefig(\"%s%s%i%s%i%s\" % (experiment_dir,'/hiddensize-',hidden_size,'-frame-',frame,'.png'), \\\n",
    "                    bbox_inches='tight')\n",
    "        plt.close(fig)"
   ]
  },
  {
   "cell_type": "code",
   "execution_count": null,
   "metadata": {},
   "outputs": [],
   "source": []
  }
 ],
 "metadata": {
  "kernelspec": {
   "display_name": "Python 3",
   "language": "python",
   "name": "python3"
  },
  "language_info": {
   "codemirror_mode": {
    "name": "ipython",
    "version": 3
   },
   "file_extension": ".py",
   "mimetype": "text/x-python",
   "name": "python",
   "nbconvert_exporter": "python",
   "pygments_lexer": "ipython3",
   "version": "3.7.6"
  }
 },
 "nbformat": 4,
 "nbformat_minor": 4
}
