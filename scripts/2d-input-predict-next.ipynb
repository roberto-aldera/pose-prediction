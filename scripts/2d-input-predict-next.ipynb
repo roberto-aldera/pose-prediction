{
 "cells": [
  {
   "cell_type": "code",
   "execution_count": 183,
   "metadata": {},
   "outputs": [],
   "source": [
    "import numpy as np\n",
    "import torch\n",
    "from torch import nn, optim\n",
    "from torch.utils.data import Dataset, DataLoader\n",
    "torch.manual_seed(1)\n",
    "import matplotlib.pyplot as plt\n",
    "from mpl_toolkits.mplot3d import Axes3D"
   ]
  },
  {
   "cell_type": "code",
   "execution_count": 184,
   "metadata": {},
   "outputs": [],
   "source": [
    "# Creating the artificial dataset\n",
    "class Data2d(Dataset):\n",
    "    \n",
    "    # Constructor\n",
    "    def __init__(self):\n",
    "        self.x = torch.zeros(20,2)\n",
    "        self.x[:,0] = torch.arange(-1,1,0.1)\n",
    "        self.x[:,1] = torch.arange(-0.9,1.1,0.1)\n",
    "        \n",
    "#         self.w = torch.tensor([[1.0], [1.0]])\n",
    "#         self.b = 1\n",
    "#         self.f = torch.mm(self.x, self.w) + self.b\n",
    "        \n",
    "#         self.y = self.f + 0.01*torch.randn((self.x.shape[0],1))\n",
    "\n",
    "        self.y = torch.zeros(20,1)\n",
    "        self.y = torch.arange(-0.8,1.2,0.1)\n",
    "        \n",
    "        self.len = self.x.shape[0]\n",
    "    \n",
    "    # Getter\n",
    "    def __getitem__(self, index):\n",
    "        return self.x[index], self.y[index]\n",
    "    \n",
    "    # Getting the length\n",
    "    def __len__(self):\n",
    "        return self.len\n",
    "# Instantiation of the class  \n",
    "my_data = Data2d()"
   ]
  },
  {
   "cell_type": "code",
   "execution_count": 185,
   "metadata": {},
   "outputs": [
    {
     "name": "stdout",
     "output_type": "stream",
     "text": [
      "The parameters:  OrderedDict([('linear.weight', tensor([[ 0.3643, -0.3121]])), ('linear.bias', tensor([-0.1371]))])\n"
     ]
    }
   ],
   "source": [
    "# Creating a linear regression model\n",
    "class lin_reg(nn.Module):\n",
    "\n",
    "    def __init__(self, in_feat, out_feat):\n",
    "        super(lin_reg, self).__init__()\n",
    "        self.linear = nn.Linear(in_feat, out_feat)\n",
    "        \n",
    "    def forward(self,x):\n",
    "        yhat = self.linear(x)\n",
    "        return yhat\n",
    "    \n",
    "# Instantiation of an object\n",
    "model = lin_reg(2,1)\n",
    "print(\"The parameters: \", model.state_dict())"
   ]
  },
  {
   "cell_type": "code",
   "execution_count": 186,
   "metadata": {},
   "outputs": [
    {
     "name": "stderr",
     "output_type": "stream",
     "text": [
      "/opt/conda/envs/pose-prediction/lib/python3.7/site-packages/torch/nn/modules/loss.py:431: UserWarning: Using a target size (torch.Size([1])) that is different to the input size (torch.Size([1, 1])). This will likely lead to incorrect results due to broadcasting. Please ensure they have the same size.\n",
      "  return F.mse_loss(input, target, reduction=self.reduction)\n"
     ]
    }
   ],
   "source": [
    "# Parameters\n",
    "criterion = nn.MSELoss()\n",
    "optimizer = optim.SGD(model.parameters(), lr = 0.01) \n",
    "# Training data object which loads the artificial data\n",
    "trainloader = DataLoader(dataset = my_data, batch_size = 1)\n",
    "# Training the model\n",
    "Loss = []  # variable for storing losses after each epoch\n",
    "epochs = 20\n",
    "# print('Before training:')\n",
    "# plane2D(model, my_data)\n",
    "def train_model(epochs):\n",
    "    for epoch in range(epochs):\n",
    "        for x,y in trainloader:\n",
    "            yhat = model(x)\n",
    "            loss = criterion(yhat,y)\n",
    "            Loss.append(loss.item())\n",
    "            optimizer.zero_grad()\n",
    "            loss.backward()\n",
    "            optimizer.step()\n",
    "# Calling the training function          \n",
    "train_model(epochs)\n",
    "# print(\"After training: \")\n",
    "# plane2D(model, my_data, epochs)"
   ]
  },
  {
   "cell_type": "code",
   "execution_count": 187,
   "metadata": {},
   "outputs": [
    {
     "data": {
      "text/plain": [
       "[<matplotlib.lines.Line2D at 0x7fdcad0a1c50>]"
      ]
     },
     "execution_count": 187,
     "metadata": {},
     "output_type": "execute_result"
    },
    {
     "data": {
      "image/png": "[encoded data removed]",
      "text/plain": [
       "<Figure size 432x288 with 1 Axes>"
      ]
     },
     "metadata": {
      "needs_background": "light"
     },
     "output_type": "display_data"
    }
   ],
   "source": [
    "plt.plot(Loss)"
   ]
  },
  {
   "cell_type": "code",
   "execution_count": 188,
   "metadata": {},
   "outputs": [
    {
     "name": "stdout",
     "output_type": "stream",
     "text": [
      "tensor([-1.0000, -0.9000]) tensor(-0.8000)\n",
      "tensor([-0.9000, -0.8000]) tensor(-0.7000)\n",
      "tensor([-0.8000, -0.7000]) tensor(-0.6000)\n",
      "tensor([-0.7000, -0.6000]) tensor(-0.5000)\n",
      "tensor([-0.6000, -0.5000]) tensor(-0.4000)\n",
      "tensor([-0.5000, -0.4000]) tensor(-0.3000)\n",
      "tensor([-0.4000, -0.3000]) tensor(-0.2000)\n",
      "tensor([-0.3000, -0.2000]) tensor(-0.1000)\n",
      "tensor([-0.2000, -0.1000]) tensor(0.)\n",
      "tensor([-0.1000,  0.0000]) tensor(0.1000)\n",
      "tensor([0.0000, 0.1000]) tensor(0.2000)\n",
      "tensor([0.1000, 0.2000]) tensor(0.3000)\n",
      "tensor([0.2000, 0.3000]) tensor(0.4000)\n",
      "tensor([0.3000, 0.4000]) tensor(0.5000)\n",
      "tensor([0.4000, 0.5000]) tensor(0.6000)\n",
      "tensor([0.5000, 0.6000]) tensor(0.7000)\n",
      "tensor([0.6000, 0.7000]) tensor(0.8000)\n",
      "tensor([0.7000, 0.8000]) tensor(0.9000)\n",
      "tensor([0.8000, 0.9000]) tensor(1.)\n",
      "tensor([0.9000, 1.0000]) tensor(1.1000)\n"
     ]
    }
   ],
   "source": [
    "for i in range(len(my_data)):\n",
    "    print(my_data.x[i],my_data.y[i])\n"
   ]
  },
  {
   "cell_type": "code",
   "execution_count": 189,
   "metadata": {},
   "outputs": [
    {
     "name": "stdout",
     "output_type": "stream",
     "text": [
      "x:  tensor([[-1.0000, -0.9000]])\n",
      "yhat:  tensor([[-0.7953]])\n",
      "x:  tensor([[-0.9000, -0.8000]])\n",
      "yhat:  tensor([[-0.6958]])\n",
      "x:  tensor([[-0.8000, -0.7000]])\n",
      "yhat:  tensor([[-0.5962]])\n",
      "x:  tensor([[-0.7000, -0.6000]])\n",
      "yhat:  tensor([[-0.4967]])\n",
      "x:  tensor([[-0.6000, -0.5000]])\n",
      "yhat:  tensor([[-0.3971]])\n",
      "x:  tensor([[-0.5000, -0.4000]])\n",
      "yhat:  tensor([[-0.2976]])\n",
      "x:  tensor([[-0.4000, -0.3000]])\n",
      "yhat:  tensor([[-0.1980]])\n",
      "x:  tensor([[-0.3000, -0.2000]])\n",
      "yhat:  tensor([[-0.0985]])\n",
      "x:  tensor([[-0.2000, -0.1000]])\n",
      "yhat:  tensor([[0.0011]])\n",
      "x:  tensor([[-0.1000,  0.0000]])\n",
      "yhat:  tensor([[0.1006]])\n",
      "x:  tensor([[0.0000, 0.1000]])\n",
      "yhat:  tensor([[0.2002]])\n",
      "x:  tensor([[0.1000, 0.2000]])\n",
      "yhat:  tensor([[0.2997]])\n",
      "x:  tensor([[0.2000, 0.3000]])\n",
      "yhat:  tensor([[0.3993]])\n",
      "x:  tensor([[0.3000, 0.4000]])\n",
      "yhat:  tensor([[0.4989]])\n",
      "x:  tensor([[0.4000, 0.5000]])\n",
      "yhat:  tensor([[0.5984]])\n",
      "x:  tensor([[0.5000, 0.6000]])\n",
      "yhat:  tensor([[0.6980]])\n",
      "x:  tensor([[0.6000, 0.7000]])\n",
      "yhat:  tensor([[0.7975]])\n",
      "x:  tensor([[0.7000, 0.8000]])\n",
      "yhat:  tensor([[0.8971]])\n",
      "x:  tensor([[0.8000, 0.9000]])\n",
      "yhat:  tensor([[0.9966]])\n",
      "x:  tensor([[0.9000, 1.0000]])\n",
      "yhat:  tensor([[1.0962]])\n"
     ]
    }
   ],
   "source": [
    "for x,y in trainloader:\n",
    "        yhat = model(x)\n",
    "        print('x: ',x.data)\n",
    "        print('yhat: ',yhat.data)"
   ]
  },
  {
   "cell_type": "code",
   "execution_count": 190,
   "metadata": {},
   "outputs": [
    {
     "data": {
      "text/plain": [
       "tensor([[2.1912]], grad_fn=<AddmmBackward>)"
      ]
     },
     "execution_count": 190,
     "metadata": {},
     "output_type": "execute_result"
    }
   ],
   "source": [
    "new_var = Variable(torch.Tensor([[2.0,2.1]]))\n",
    "model(new_var)"
   ]
  },
  {
   "cell_type": "code",
   "execution_count": null,
   "metadata": {},
   "outputs": [],
   "source": []
  }
 ],
 "metadata": {
  "kernelspec": {
   "display_name": "Python 3",
   "language": "python",
   "name": "python3"
  },
  "language_info": {
   "codemirror_mode": {
    "name": "ipython",
    "version": 3
   },
   "file_extension": ".py",
   "mimetype": "text/x-python",
   "name": "python",
   "nbconvert_exporter": "python",
   "pygments_lexer": "ipython3",
   "version": "3.7.6"
  }
 },
 "nbformat": 4,
 "nbformat_minor": 4
}
