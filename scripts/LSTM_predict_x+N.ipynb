{
 "cells": [
  {
   "cell_type": "code",
   "execution_count": 1,
   "metadata": {},
   "outputs": [],
   "source": [
    "import numpy as np\n",
    "import torch\n",
    "from torchvision import transforms\n",
    "from torch import nn, optim\n",
    "from torch.utils.data import Dataset, DataLoader\n",
    "from torch.utils.data.dataset import TensorDataset\n",
    "from torch.autograd import Variable \n",
    "torch.manual_seed(1)\n",
    "np.random.seed(1)\n",
    "import matplotlib.pyplot as plt\n",
    "\n",
    "# For importing poses\n",
    "import sys\n",
    "import os\n",
    "sys.path.append(os.path.expanduser(\"/workspace/code/pose-prediction/src/functions\"))"
   ]
  },
  {
   "cell_type": "code",
   "execution_count": 2,
   "metadata": {},
   "outputs": [
    {
     "name": "stdout",
     "output_type": "stream",
     "text": [
      "Loading poses from monolithic file...\n",
      "reading RO_relative_poses_path: /workspace/data/pose-prediction-odometry/tmp-testing/ro_relative_poses.monolithic\n",
      "importing  protobuf.transform.pbSerialisedTransform_pb2\n",
      "Finished reading 8421 poses.\n"
     ]
    }
   ],
   "source": [
    "from load_poses import get_poses_from_file\n",
    "dataset_path = \"/workspace/data/pose-prediction-odometry/tmp-testing/\"\n",
    "RO_se3s,RO_timestamps = get_poses_from_file(dataset_path)"
   ]
  },
  {
   "cell_type": "code",
   "execution_count": 3,
   "metadata": {},
   "outputs": [
    {
     "name": "stdout",
     "output_type": "stream",
     "text": [
      "Train set size: 4800\n",
      "Test set size: 1200\n"
     ]
    }
   ],
   "source": [
    "# Crop poses - there was a dud pose at 6342, this is a quick fix for now\n",
    "max_poses = 6000\n",
    "RO_se3s = RO_se3s[:max_poses]\n",
    "RO_timestamps = RO_timestamps[:max_poses]\n",
    "\n",
    "train_test_ratio = 0.8\n",
    "split_idx = int(len(RO_timestamps)*train_test_ratio)\n",
    "train_RO_se3s = RO_se3s[:split_idx]\n",
    "train_RO_timestamps = RO_timestamps[:split_idx]\n",
    "test_RO_se3s = RO_se3s[split_idx:]\n",
    "test_RO_timestamps = RO_timestamps[split_idx:]\n",
    "print(\"Train set size:\",len(train_RO_timestamps))\n",
    "print(\"Test set size:\",len(test_RO_timestamps))"
   ]
  },
  {
   "cell_type": "code",
   "execution_count": 4,
   "metadata": {},
   "outputs": [],
   "source": [
    "t_x_data = np.zeros(len(train_RO_timestamps))\n",
    "t_y_data = np.zeros(len(train_RO_timestamps))\n",
    "t_theta_data = np.zeros(len(train_RO_timestamps))\n",
    "\n",
    "for i in range(len(train_RO_timestamps)):\n",
    "    t_x_data[i] = train_RO_se3s[i][0,3]\n",
    "    t_y_data[i] = train_RO_se3s[i][1,3]\n",
    "    t_theta_data[i] = np.arccos(train_RO_se3s[i][0,0])\n",
    "    \n",
    "test_t_x_data = np.zeros(len(test_RO_timestamps))\n",
    "\n",
    "for i in range(len(test_RO_timestamps)):\n",
    "    test_t_x_data[i] = test_RO_se3s[i][0,3]"
   ]
  },
  {
   "cell_type": "code",
   "execution_count": 5,
   "metadata": {},
   "outputs": [],
   "source": [
    "dim1_data = t_x_data\n",
    "dim1_data_scaled = (dim1_data - dim1_data.mean())/dim1_data.std()"
   ]
  },
  {
   "cell_type": "code",
   "execution_count": 6,
   "metadata": {},
   "outputs": [
    {
     "name": "stdout",
     "output_type": "stream",
     "text": [
      "dataX: torch.Size([4789, 10, 1])\n",
      "trainX: torch.Size([3831, 10, 1])\n",
      "testX: torch.Size([958, 10, 1])\n"
     ]
    }
   ],
   "source": [
    "def sliding_windows(data, seq_length):\n",
    "    x = []\n",
    "    y = []\n",
    "\n",
    "    for i in range(len(data)-seq_length-1):\n",
    "        _x = data[i:(i+seq_length)]\n",
    "        _y = data[i+seq_length]\n",
    "        x.append(_x)\n",
    "        y.append(_y)\n",
    "\n",
    "    return np.array(x),np.array(y)\n",
    "\n",
    "# sc = MinMaxScaler()\n",
    "# training_data = sc.fit_transform(training_set)\n",
    "\n",
    "training_data = dim1_data_scaled.reshape(-1,1)\n",
    "\n",
    "seq_length = 10\n",
    "x, y = sliding_windows(training_data, seq_length)\n",
    "\n",
    "train_test_ratio = 0.8\n",
    "train_size = int(len(y) * train_test_ratio)\n",
    "test_size = len(y) - train_size\n",
    "\n",
    "dataX = Variable(torch.Tensor(np.array(x)))\n",
    "dataY = Variable(torch.Tensor(np.array(y)))\n",
    "\n",
    "trainX = Variable(torch.Tensor(np.array(x[0:train_size])))\n",
    "trainY = Variable(torch.Tensor(np.array(y[0:train_size])))\n",
    "\n",
    "testX = Variable(torch.Tensor(np.array(x[train_size:len(x)])))\n",
    "testY = Variable(torch.Tensor(np.array(y[train_size:len(y)])))\n",
    "\n",
    "print(\"dataX:\",dataX.shape)\n",
    "print(\"trainX:\",trainX.shape)\n",
    "print(\"testX:\",testX.shape)"
   ]
  },
  {
   "cell_type": "code",
   "execution_count": 7,
   "metadata": {},
   "outputs": [],
   "source": [
    "class LSTM(nn.Module):\n",
    "\n",
    "    def __init__(self, input_size, hidden_size, num_layers):\n",
    "        super(LSTM, self).__init__()\n",
    "        self.num_layers = num_layers\n",
    "        self.input_size = input_size\n",
    "        self.hidden_size = hidden_size\n",
    "        self.seq_length = seq_length\n",
    "        \n",
    "        self.lstm = nn.LSTM(input_size=input_size, hidden_size=hidden_size,\n",
    "                            num_layers=num_layers, batch_first=True)\n",
    "        \n",
    "        self.fc = nn.Linear(hidden_size, 1)\n",
    "\n",
    "    def forward(self, x):\n",
    "        # hidden and cell states\n",
    "        h_0 = Variable(torch.zeros(\n",
    "            self.num_layers, x.size(0), self.hidden_size))\n",
    "        \n",
    "        c_0 = Variable(torch.zeros(\n",
    "            self.num_layers, x.size(0), self.hidden_size))\n",
    "        \n",
    "        # Debugging\n",
    "#         print(\"x\",x.shape,\"\\n\",x)\n",
    "#         print(\"h_0\",h_0.shape,\"\\n\",h_0)\n",
    "#         print(\"c_0\",c_0.shape,\"\\n\",c_0)\n",
    "        \n",
    "        # Propagate input through LSTM\n",
    "        ula, (h_out, _) = self.lstm(x, (h_0, c_0))\n",
    "        \n",
    "        h_out = h_out.view(-1, self.hidden_size)\n",
    "        \n",
    "        out = self.fc(h_out)\n",
    "        \n",
    "        return out"
   ]
  },
  {
   "cell_type": "code",
   "execution_count": 8,
   "metadata": {},
   "outputs": [
    {
     "name": "stdout",
     "output_type": "stream",
     "text": [
      "Epoch: 0, loss: 0.88816\n",
      "Epoch: 50, loss: 0.01039\n",
      "Epoch: 100, loss: 0.00617\n",
      "Epoch: 150, loss: 0.00577\n",
      "Epoch: 200, loss: 0.00568\n",
      "Epoch: 250, loss: 0.00563\n",
      "Epoch: 300, loss: 0.00559\n",
      "Epoch: 350, loss: 0.00556\n",
      "Epoch: 400, loss: 0.00553\n",
      "Epoch: 450, loss: 0.00550\n"
     ]
    }
   ],
   "source": [
    "num_epochs = 500\n",
    "learning_rate = 0.01\n",
    "\n",
    "input_size = 1\n",
    "hidden_size = 20\n",
    "num_layers = 1\n",
    "\n",
    "lstm = LSTM(input_size, hidden_size, num_layers)\n",
    "\n",
    "criterion = torch.nn.MSELoss()    # mean-squared error for regression\n",
    "optimizer = torch.optim.Adam(lstm.parameters(), lr=learning_rate)\n",
    "#optimizer = torch.optim.SGD(lstm.parameters(), lr=learning_rate)\n",
    "\n",
    "# Train the model\n",
    "for epoch in range(num_epochs):\n",
    "#     print(\"training x shape:\",trainX.shape)\n",
    "    outputs = lstm(trainX)\n",
    "    optimizer.zero_grad()\n",
    "    \n",
    "    # obtain the loss function\n",
    "    loss = criterion(outputs, trainY)\n",
    "    \n",
    "    loss.backward()\n",
    "    \n",
    "    optimizer.step()\n",
    "    if epoch % 50 == 0:\n",
    "        print(\"Epoch: %d, loss: %1.5f\" % (epoch, loss.item()))"
   ]
  },
  {
   "cell_type": "code",
   "execution_count": 9,
   "metadata": {},
   "outputs": [
    {
     "data": {
      "image/png": "[encoded data removed]",
      "text/plain": [
       "<Figure size 1080x360 with 1 Axes>"
      ]
     },
     "metadata": {
      "needs_background": "light"
     },
     "output_type": "display_data"
    },
    {
     "name": "stdout",
     "output_type": "stream",
     "text": [
      "Data length: 4789\n",
      "Prediction length: 4789\n"
     ]
    }
   ],
   "source": [
    "lstm.eval()\n",
    "train_predict = lstm(dataX)\n",
    "\n",
    "# Scale outputs up again after the inputs had been scaled down - using training data ONLY (dim1_data)\n",
    "data_predict_rescaled = train_predict.data.numpy()*dim1_data.std()+dim1_data.mean()\n",
    "dataY_plot_rescaled = dataY.data.numpy()*dim1_data.std()+dim1_data.mean()\n",
    "\n",
    "plt.figure(figsize=(15,5))\n",
    "plt.axvline(x=train_size, c='r', linestyle='--',label=\"test data start\")\n",
    "view_size = 100\n",
    "plt.xlim(len(dataY)*train_test_ratio-view_size,len(dataY)*train_test_ratio+view_size)\n",
    "# plt.xlim(3000,3500)\n",
    "plt.plot(dataY_plot_rescaled,label=\"Ground truth\")\n",
    "# plt.plot(data_predict_rescaled[1:],label=\"Prediction for t+1\")\n",
    "plt.plot(data_predict_rescaled,label=\"Prediction for t+1\")\n",
    "# plt.plot(dataX[:,1]*dim1_data.std()+dim1_data.mean()) # this is raw input data, which will be leading by N frames\n",
    "plt.suptitle('Time-Series Prediction for pose in x')\n",
    "plt.grid()\n",
    "plt.legend()\n",
    "plt.show()\n",
    "print(\"Data length:\",len(dataY_plot_rescaled))\n",
    "print(\"Prediction length:\",len(data_predict_rescaled))"
   ]
  },
  {
   "cell_type": "code",
   "execution_count": 10,
   "metadata": {},
   "outputs": [
    {
     "name": "stdout",
     "output_type": "stream",
     "text": [
      "[0 2 4 6]\n",
      "[2 4 6 8]\n"
     ]
    }
   ],
   "source": [
    "def appender(input_seq,new_val):\n",
    "    \"\"\"\n",
    "    Append value to input sequence (treat as arrays)\n",
    "    \"\"\"\n",
    "    input_seq = np.delete(input_seq,0)\n",
    "    updated_input_seq = np.append(input_seq,new_val)\n",
    "    return updated_input_seq\n",
    "my_arr = np.array([0,2,4,6])\n",
    "print(my_arr)\n",
    "my_new_arr = appender(my_arr,8)\n",
    "print(my_new_arr)"
   ]
  },
  {
   "cell_type": "code",
   "execution_count": 24,
   "metadata": {},
   "outputs": [
    {
     "name": "stdout",
     "output_type": "stream",
     "text": [
      "data size and type: torch.Size([4789, 10, 1]) <class 'torch.Tensor'>\n"
     ]
    },
    {
     "data": {
      "text/plain": [
       "<matplotlib.legend.Legend at 0x7fa563c6c9d0>"
      ]
     },
     "execution_count": 24,
     "metadata": {},
     "output_type": "execute_result"
    },
    {
     "data": {
      "image/png": "[encoded data removed]",
      "text/plain": [
       "<Figure size 1080x360 with 1 Axes>"
      ]
     },
     "metadata": {
      "needs_background": "light"
     },
     "output_type": "display_data"
    }
   ],
   "source": [
    "print(\"data size and type:\",dataX.size(),type(dataX))\n",
    "\n",
    "prediction_start_index = 160\n",
    "horizon = 100\n",
    "input_seq = trainX[prediction_start_index]\n",
    "future_val = trainY.data.numpy()[prediction_start_index][0]\n",
    "\n",
    "lstm.eval()\n",
    "# output_collection = lstm(trainX[prediction_start_index-seq_length:prediction_start_index])\n",
    "# output_collection = lstm(trainX[:prediction_start_index])\n",
    "output_collection = lstm(trainX[[prediction_start_index]])\n",
    "\n",
    "for i in range(horizon):\n",
    "    updated_input_seq = appender(input_seq,future_val)\n",
    "    updated_input_seq = updated_input_seq[np.newaxis,...,np.newaxis]\n",
    "    updated_input_seq = Variable(torch.tensor(updated_input_seq))\n",
    "\n",
    "    next_prediction = lstm(updated_input_seq)\n",
    "    output_collection = torch.cat((output_collection, next_prediction), 0)\n",
    "\n",
    "    # Update states\n",
    "    input_seq = updated_input_seq\n",
    "    future_val = next_prediction.data.numpy()\n",
    "    \n",
    "predictions = output_collection\n",
    "\n",
    "# Scale outputs up again after the inputs had been scaled down - using training data ONLY (dim1_data)\n",
    "data_predict_rescaled = predictions.data.numpy()*dim1_data.std()+dim1_data.mean()\n",
    "dataY_plot_rescaled = dataY.data.numpy()*dim1_data.std()+dim1_data.mean()\n",
    "\n",
    "# x_axis_ticks = np.linspace(prediction_start_index-seq_length,prediction_start_index+50,50+seq_length)\n",
    "x_axis_ticks = np.linspace(prediction_start_index,prediction_start_index+horizon,horizon+1)\n",
    "\n",
    "plt.figure(figsize=(15,5))\n",
    "plt.axvline(x=train_size, c='r', linestyle='--',label=\"test data start\")\n",
    "plt.axvline(x=prediction_start_index, c='k', linestyle='--',label=\"observation start\")\n",
    "view_size = 150\n",
    "x_centre = prediction_start_index #len(dataY)*train_test_ratio\n",
    "plt.xlim(x_centre-view_size,x_centre+view_size)\n",
    "plt.plot(dataY_plot_rescaled,label=\"Ground truth\")\n",
    "plt.plot(x_axis_ticks,data_predict_rescaled,label=\"Prediction\")\n",
    "title_string = 'Time-Series Prediction for pose in x, '+'hidden_size='+str(hidden_size) \\\n",
    "             +' seq_length='+str(seq_length)\n",
    "plt.title(title_string)\n",
    "plt.grid()\n",
    "plt.legend()"
   ]
  },
  {
   "cell_type": "code",
   "execution_count": 17,
   "metadata": {},
   "outputs": [
    {
     "name": "stdout",
     "output_type": "stream",
     "text": [
      "02-06-2020-13-06-29\n"
     ]
    }
   ],
   "source": [
    "import datetime\n",
    "from time import strftime\n",
    "print(datetime.datetime.now().strftime(\"%d-%m-%Y-%H-%M-%S\"))\n",
    "\n",
    "save_plots = False\n",
    "prediction_start_index = 3000 #140\n",
    "num_frames_to_render = 10\n",
    "experiment_dir = '/workspace/data/pose-prediction-odometry/'+datetime.datetime.now().strftime(\"%d-%m-%Y-%H-%M-%S\")\n",
    "if save_plots:\n",
    "    os.mkdir(experiment_dir)\n",
    "    for frame in range(prediction_start_index,prediction_start_index+num_frames_to_render):\n",
    "        prediction_start_index = frame\n",
    "        prediction_horizon = 500\n",
    "        input_seq = trainX[prediction_start_index]\n",
    "        future_val = trainY.data.numpy()[prediction_start_index][0]\n",
    "\n",
    "        lstm.eval()\n",
    "        output_collection = lstm(trainX[:prediction_start_index])\n",
    "\n",
    "        for i in range(prediction_horizon):\n",
    "            updated_input_seq = appender(input_seq,future_val)\n",
    "            updated_input_seq = updated_input_seq[np.newaxis,...,np.newaxis]\n",
    "            updated_input_seq = Variable(torch.tensor(updated_input_seq))\n",
    "\n",
    "            next_prediction = lstm(updated_input_seq)\n",
    "            output_collection = torch.cat((output_collection, next_prediction), 0)\n",
    "\n",
    "            # Update states\n",
    "            input_seq = updated_input_seq\n",
    "            future_val = next_prediction.data.numpy()\n",
    "           \n",
    "        predictions = output_collection\n",
    "\n",
    "        # Scale outputs up again after the inputs had been scaled down - using training data ONLY (dim1_data)\n",
    "        data_predict_rescaled = predictions.data.numpy()*dim1_data.std()+dim1_data.mean()\n",
    "        dataY_plot_rescaled = dataY.data.numpy()*dim1_data.std()+dim1_data.mean()\n",
    "\n",
    "        fig = plt.figure(figsize=(15,5))\n",
    "#         plt.axvline(x=train_size, c='r', linestyle='--',label=\"test data start\")\n",
    "        plt.axvline(x=prediction_start_index, c='k', linestyle='--',label=\"observation start\")\n",
    "        view_size = 100\n",
    "        x_centre = prediction_start_index #len(dataY)*train_test_ratio\n",
    "        plt.xlim(x_centre-view_size,x_centre+view_size)\n",
    "        plt.ylim(-0.5,3)\n",
    "        plt.plot(dataY_plot_rescaled,label=\"Ground truth\")\n",
    "        plt.plot(data_predict_rescaled,label=\"LSTM prediction\")\n",
    "        title_string = 'Time-Series Prediction for pose in x, '+'hidden_size='+str(hidden_size) \\\n",
    "                     +' seq_length='+str(seq_length)\n",
    "        plt.title(title_string)\n",
    "        plt.grid()\n",
    "        plt.legend()\n",
    "        plt.savefig(\"%s%s%i%s%i%s\" % (experiment_dir,'/hiddensize-',hidden_size,'-frame-',frame,'.png'), \\\n",
    "                    bbox_inches='tight')\n",
    "        plt.close(fig)"
   ]
  },
  {
   "cell_type": "code",
   "execution_count": 21,
   "metadata": {},
   "outputs": [
    {
     "name": "stdout",
     "output_type": "stream",
     "text": [
      "02-06-2020-13-08-52\n"
     ]
    }
   ],
   "source": [
    "import datetime\n",
    "from time import strftime\n",
    "print(datetime.datetime.now().strftime(\"%d-%m-%Y-%H-%M-%S\"))\n",
    "\n",
    "save_plots = True\n",
    "prediction_start_index = 2000 #140\n",
    "prediction_horizon = 100\n",
    "num_frames_to_render = 10\n",
    "experiment_dir = '/workspace/data/pose-prediction-odometry/'+datetime.datetime.now().strftime(\"%d-%m-%Y-%H-%M-%S\")\n",
    "if save_plots:\n",
    "    os.mkdir(experiment_dir)\n",
    "    for frame in range(prediction_start_index,prediction_start_index+num_frames_to_render):\n",
    "        prediction_start_index = frame\n",
    "        input_seq = trainX[prediction_start_index]\n",
    "        future_val = trainY.data.numpy()[prediction_start_index][0]\n",
    "\n",
    "        lstm.eval()\n",
    "        output_collection = lstm(trainX[[prediction_start_index]])\n",
    "\n",
    "        for i in range(prediction_horizon):\n",
    "            updated_input_seq = appender(input_seq,future_val)\n",
    "            updated_input_seq = updated_input_seq[np.newaxis,...,np.newaxis]\n",
    "            updated_input_seq = Variable(torch.tensor(updated_input_seq))\n",
    "\n",
    "            next_prediction = lstm(updated_input_seq)\n",
    "            output_collection = torch.cat((output_collection, next_prediction), 0)\n",
    "\n",
    "            # Update states\n",
    "            input_seq = updated_input_seq\n",
    "            future_val = next_prediction.data.numpy()\n",
    "           \n",
    "        predictions = output_collection\n",
    "\n",
    "        # Scale outputs up again after the inputs had been scaled down - using training data ONLY (dim1_data)\n",
    "        data_predict_rescaled = predictions.data.numpy()*dim1_data.std()+dim1_data.mean()\n",
    "        dataY_plot_rescaled = dataY.data.numpy()*dim1_data.std()+dim1_data.mean()\n",
    "\n",
    "        x_axis_ticks = np.linspace(prediction_start_index,prediction_start_index+prediction_horizon,prediction_horizon+1)\n",
    "        \n",
    "        fig = plt.figure(figsize=(15,5))\n",
    "#         plt.axvline(x=train_size, c='r', linestyle='--',label=\"test data start\")\n",
    "        plt.axvline(x=prediction_start_index, c='k', linestyle='--',label=\"observation start\")\n",
    "        view_size = 150\n",
    "        x_centre = prediction_start_index #len(dataY)*train_test_ratio\n",
    "        plt.xlim(x_centre-view_size,x_centre+view_size)\n",
    "        plt.ylim(-0.5,3)\n",
    "        plt.plot(dataY_plot_rescaled,label=\"Ground truth\")\n",
    "        plt.plot(x_axis_ticks,data_predict_rescaled,label=\"LSTM Prediction\")\n",
    "        title_string = 'Time-Series Prediction for pose in x, '+'hidden_size='+str(hidden_size) \\\n",
    "                     +' seq_length='+str(seq_length)\n",
    "        plt.title(title_string)\n",
    "        plt.grid()\n",
    "        plt.legend()\n",
    "        plt.savefig(\"%s%s%i%s%i%s\" % (experiment_dir,'/hiddensize-',hidden_size,'-frame-',frame,'.png'), \\\n",
    "                    bbox_inches='tight')\n",
    "        plt.close(fig)"
   ]
  },
  {
   "cell_type": "code",
   "execution_count": null,
   "metadata": {},
   "outputs": [],
   "source": []
  }
 ],
 "metadata": {
  "kernelspec": {
   "display_name": "Python 3",
   "language": "python",
   "name": "python3"
  },
  "language_info": {
   "codemirror_mode": {
    "name": "ipython",
    "version": 3
   },
   "file_extension": ".py",
   "mimetype": "text/x-python",
   "name": "python",
   "nbconvert_exporter": "python",
   "pygments_lexer": "ipython3",
   "version": "3.7.6"
  }
 },
 "nbformat": 4,
 "nbformat_minor": 4
}
