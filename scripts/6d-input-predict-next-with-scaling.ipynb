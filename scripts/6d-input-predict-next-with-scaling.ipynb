{
 "cells": [
  {
   "cell_type": "code",
   "execution_count": 9,
   "metadata": {},
   "outputs": [],
   "source": [
    "import numpy as np\n",
    "import torch\n",
    "from torchvision import transforms\n",
    "from torch import nn, optim\n",
    "from torch.utils.data import Dataset, DataLoader\n",
    "from torch.autograd import Variable \n",
    "torch.manual_seed(1)\n",
    "import matplotlib.pyplot as plt\n",
    "from mpl_toolkits.mplot3d import Axes3D"
   ]
  },
  {
   "cell_type": "code",
   "execution_count": 2,
   "metadata": {},
   "outputs": [],
   "source": [
    "num_features = 3\n",
    "num_frames = 2\n",
    "input_size = num_features * num_frames\n",
    "output_size = num_features"
   ]
  },
  {
   "cell_type": "code",
   "execution_count": 3,
   "metadata": {},
   "outputs": [],
   "source": [
    "# Creating the artificial dataset\n",
    "dim1_data = np.arange(0,5.2,0.1)\n",
    "dim2_data = np.arange(0,0.52,0.01)\n",
    "dim3_data = np.arange(0,0.052,0.001)\n",
    "\n",
    "dim1_data_scaled = (dim1_data - dim1_data.mean())/dim1_data.std()\n",
    "dim2_data_scaled = (dim2_data - dim2_data.mean())/dim2_data.std()\n",
    "dim3_data_scaled = (dim3_data - dim3_data.mean())/dim3_data.std()"
   ]
  },
  {
   "cell_type": "code",
   "execution_count": 4,
   "metadata": {},
   "outputs": [],
   "source": [
    "class Data2d(Dataset):   \n",
    "    # Constructor\n",
    "    def __init__(self):\n",
    "        x_data = torch.tensor(dim1_data_scaled)\n",
    "        y_data = torch.tensor(dim2_data_scaled)\n",
    "        theta_data = torch.tensor(dim3_data_scaled)\n",
    "        \n",
    "        # input tensor holds x, y, and theta data in frame 1, frame 2\n",
    "        # [x1,y1,th1,x2,y2,th2]\n",
    "        # These are offset, so that x1 goes up until the second last frame\n",
    "        # (current frame is treated as future prediction)\n",
    "        self.x = torch.zeros(len(dim1_data)-num_frames,input_size)\n",
    "        self.x[:,5] = theta_data[:-2]\n",
    "        self.x[:,4] = y_data[:-2]\n",
    "        self.x[:,3] = x_data[:-2]\n",
    "        self.x[:,2] = theta_data[1:-1]\n",
    "        self.x[:,1] = y_data[1:-1]\n",
    "        self.x[:,0] = x_data[1:-1]\n",
    "        \n",
    "        # output tensor holds single frame, for x, y, and theta values\n",
    "        # This is cropped to exclude the first n frames (n=2 here) and run up until the end\n",
    "        # So a synthesised 'future' value to aim for\n",
    "        self.y = torch.zeros(len(dim1_data)-num_frames,output_size)\n",
    "        self.y[:,0] = x_data[2:]\n",
    "        self.y[:,1] = y_data[2:]\n",
    "        self.y[:,2] = theta_data[2:]\n",
    "        \n",
    "        self.len = self.x.shape[0]\n",
    "    \n",
    "    # Getter\n",
    "    def __getitem__(self, index):\n",
    "        return self.x[index], self.y[index]\n",
    "    \n",
    "    # Getting the length\n",
    "    def __len__(self):\n",
    "        return self.len\n",
    "# Instantiation of the class  \n",
    "my_data = Data2d()"
   ]
  },
  {
   "cell_type": "code",
   "execution_count": 5,
   "metadata": {},
   "outputs": [
    {
     "name": "stdout",
     "output_type": "stream",
     "text": [
      "The parameters:  OrderedDict([('linear.weight', tensor([[ 0.2104, -0.1802, -0.0791,  0.1916, -0.3843,  0.2448],\n",
      "        [-0.0840,  0.2077,  0.0568, -0.0500,  0.1132,  0.0201],\n",
      "        [ 0.1491, -0.1591, -0.0298, -0.0368,  0.0592, -0.0016]])), ('linear.bias', tensor([ 0.3569,  0.1270, -0.1520]))])\n"
     ]
    }
   ],
   "source": [
    "# Creating a linear regression model\n",
    "class lin_reg(nn.Module):\n",
    "\n",
    "    def __init__(self, in_feat, out_feat):\n",
    "        super(lin_reg, self).__init__()\n",
    "        self.linear = nn.Linear(in_feat, out_feat)\n",
    "        \n",
    "    def forward(self,x):\n",
    "        yhat = self.linear(x)\n",
    "        return yhat\n",
    "    \n",
    "# Instantiation of an object\n",
    "model = lin_reg(input_size,output_size)\n",
    "print(\"The parameters: \", model.state_dict())"
   ]
  },
  {
   "cell_type": "code",
   "execution_count": 6,
   "metadata": {},
   "outputs": [],
   "source": [
    "# Parameters\n",
    "criterion = nn.MSELoss()\n",
    "optimizer = optim.SGD(model.parameters(), lr = 0.01) \n",
    "# Training data object which loads the artificial data\n",
    "trainloader = DataLoader(dataset = my_data, batch_size = 1)\n",
    "# Training the model\n",
    "Loss = []  # variable for storing losses after each epoch\n",
    "epochs = 50\n",
    "\n",
    "def train_model(epochs):\n",
    "    for epoch in range(epochs):\n",
    "        for x,y in trainloader:\n",
    "            yhat = model(x)\n",
    "            loss = criterion(yhat,y)\n",
    "            Loss.append(loss.item())\n",
    "            optimizer.zero_grad()\n",
    "            loss.backward()\n",
    "            optimizer.step()\n",
    "# Calling the training function          \n",
    "train_model(epochs)"
   ]
  },
  {
   "cell_type": "code",
   "execution_count": 7,
   "metadata": {},
   "outputs": [
    {
     "data": {
      "text/plain": [
       "[<matplotlib.lines.Line2D at 0x7fdf4e30eed0>]"
      ]
     },
     "execution_count": 7,
     "metadata": {},
     "output_type": "execute_result"
    },
    {
     "data": {
      "image/png": "[encoded data removed]",
      "text/plain": [
       "<Figure size 432x288 with 1 Axes>"
      ]
     },
     "metadata": {
      "needs_background": "light"
     },
     "output_type": "display_data"
    }
   ],
   "source": [
    "plt.plot(Loss)"
   ]
  },
  {
   "cell_type": "code",
   "execution_count": 8,
   "metadata": {},
   "outputs": [
    {
     "name": "stdout",
     "output_type": "stream",
     "text": [
      "[6.2 6.1]\n",
      "[0.62 0.61]\n",
      "[0.062 0.061]\n",
      "[2.43198261 2.36535295]\n",
      "[2.43198261 2.36535295]\n",
      "[2.43198261 2.36535295]\n",
      "tensor([[2.4320, 2.4320, 2.4320, 2.3654, 2.3654, 2.3654]])\n",
      "\n",
      " raw answer:\n",
      " tensor([[2.4986, 2.4986, 2.4986]], grad_fn=<AddmmBackward>)\n",
      "\n",
      " scaled up again:\n",
      "\n",
      "tensor(6.3000, grad_fn=<AddBackward0>)\n",
      "tensor(0.6300, grad_fn=<AddBackward0>)\n",
      "tensor(0.0630, grad_fn=<AddBackward0>)\n"
     ]
    }
   ],
   "source": [
    "query_dim1 = np.array([6.2,6.1])\n",
    "query_dim2 = np.array([0.62,0.61])\n",
    "query_dim3 = np.array([0.062,0.061])\n",
    "print(query_dim1)\n",
    "print(query_dim2)\n",
    "print(query_dim3)\n",
    "\n",
    "scaled_query_dim1 = (query_dim1 - dim1_data.mean())/dim1_data.std()\n",
    "scaled_query_dim2 = (query_dim2 - dim2_data.mean())/dim2_data.std()\n",
    "scaled_query_dim3 = (query_dim3 - dim3_data.mean())/dim3_data.std()\n",
    "print(scaled_query_dim1)\n",
    "print(scaled_query_dim2)\n",
    "print(scaled_query_dim3)\n",
    "\n",
    "# Build combination so x, y, and theta are adjacent for 1 pose\n",
    "c = np.empty(scaled_query_dim1.size + scaled_query_dim2.size + scaled_query_dim3.size)\n",
    "c[0::num_features] = scaled_query_dim1\n",
    "c[1::num_features] = scaled_query_dim2\n",
    "c[2::num_features] = scaled_query_dim3\n",
    "\n",
    "new_query = Variable(torch.Tensor([c]))\n",
    "print(new_query)\n",
    "\n",
    "answer = model(new_query)\n",
    "print('\\n raw answer:\\n',answer)\n",
    "print('\\n scaled up again:\\n')\n",
    "print(answer[0][0]*dim1_data.std() + dim1_data.mean())\n",
    "print(answer[0][1]*dim2_data.std() + dim2_data.mean())\n",
    "print(answer[0][2]*dim3_data.std() + dim3_data.mean())"
   ]
  }
 ],
 "metadata": {
  "kernelspec": {
   "display_name": "Python 3",
   "language": "python",
   "name": "python3"
  },
  "language_info": {
   "codemirror_mode": {
    "name": "ipython",
    "version": 3
   },
   "file_extension": ".py",
   "mimetype": "text/x-python",
   "name": "python",
   "nbconvert_exporter": "python",
   "pygments_lexer": "ipython3",
   "version": "3.7.6"
  }
 },
 "nbformat": 4,
 "nbformat_minor": 4
}
