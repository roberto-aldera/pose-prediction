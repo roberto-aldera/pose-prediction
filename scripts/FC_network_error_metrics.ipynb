{
 "cells": [
  {
   "cell_type": "code",
   "execution_count": 2,
   "metadata": {},
   "outputs": [],
   "source": [
    "import numpy as np\n",
    "import torch\n",
    "from torchvision import transforms\n",
    "from torch import nn, optim\n",
    "from torch.utils.data import Dataset, DataLoader\n",
    "from torch.utils.data.dataset import TensorDataset\n",
    "from torch.autograd import Variable \n",
    "torch.manual_seed(1)\n",
    "np.random.seed(1)\n",
    "import matplotlib.pyplot as plt\n",
    "\n",
    "# For importing poses\n",
    "import sys\n",
    "import os\n",
    "sys.path.append(os.path.expanduser(\"/workspace/code/pose-prediction/src/functions\"))"
   ]
  },
  {
   "cell_type": "code",
   "execution_count": 3,
   "metadata": {},
   "outputs": [
    {
     "name": "stdout",
     "output_type": "stream",
     "text": [
      "Loading poses from monolithic file...\n",
      "reading RO_relative_poses_path: /workspace/data/pose-prediction-odometry/tmp-testing/ro_relative_poses.monolithic\n",
      "importing  protobuf.transform.pbSerialisedTransform_pb2\n",
      "Finished reading 8421 poses.\n"
     ]
    }
   ],
   "source": [
    "from load_poses import get_poses_from_file\n",
    "dataset_path = \"/workspace/data/pose-prediction-odometry/tmp-testing/\"\n",
    "RO_se3s,RO_timestamps = get_poses_from_file(dataset_path)"
   ]
  },
  {
   "cell_type": "code",
   "execution_count": 4,
   "metadata": {},
   "outputs": [
    {
     "name": "stdout",
     "output_type": "stream",
     "text": [
      "Train set size: 5400\n",
      "Test set size: 600\n"
     ]
    }
   ],
   "source": [
    "# Crop poses - there was a dud pose at 6342, this is a quick fix for now\n",
    "max_poses = 6000\n",
    "RO_se3s = RO_se3s[:max_poses]\n",
    "RO_timestamps = RO_timestamps[:max_poses]\n",
    "\n",
    "train_test_ratio = 0.9\n",
    "split_idx = int(len(RO_timestamps)*train_test_ratio)\n",
    "train_RO_se3s = RO_se3s[:split_idx]\n",
    "train_RO_timestamps = RO_timestamps[:split_idx]\n",
    "test_RO_se3s = RO_se3s[split_idx:]\n",
    "test_RO_timestamps = RO_timestamps[split_idx:]\n",
    "print(\"Train set size:\",len(train_RO_timestamps))\n",
    "print(\"Test set size:\",len(test_RO_timestamps))"
   ]
  },
  {
   "cell_type": "code",
   "execution_count": 5,
   "metadata": {},
   "outputs": [],
   "source": [
    "t_x_data = np.zeros(len(train_RO_timestamps))\n",
    "t_y_data = np.zeros(len(train_RO_timestamps))\n",
    "t_theta_data = np.zeros(len(train_RO_timestamps))\n",
    "\n",
    "for i in range(len(train_RO_timestamps)):\n",
    "    t_x_data[i] = train_RO_se3s[i][0,3]\n",
    "    t_y_data[i] = train_RO_se3s[i][1,3]\n",
    "    t_theta_data[i] = np.arccos(train_RO_se3s[i][0,0])\n",
    "    \n",
    "test_t_x_data = np.zeros(len(test_RO_timestamps))\n",
    "\n",
    "for i in range(len(test_RO_timestamps)):\n",
    "    test_t_x_data[i] = test_RO_se3s[i][0,3]"
   ]
  },
  {
   "cell_type": "code",
   "execution_count": 6,
   "metadata": {},
   "outputs": [],
   "source": [
    "dim1_data = t_x_data\n",
    "dim1_data_scaled = (dim1_data - dim1_data.mean())/dim1_data.std()"
   ]
  },
  {
   "cell_type": "code",
   "execution_count": 7,
   "metadata": {},
   "outputs": [
    {
     "name": "stdout",
     "output_type": "stream",
     "text": [
      "[[1 2 3]\n",
      " [2 3 7]\n",
      " [3 7 8]\n",
      " [7 8 9]\n",
      " [8 9 1]\n",
      " [9 1 2]]\n",
      "[ 4  1  1 -8  1  1]\n"
     ]
    }
   ],
   "source": [
    "def sliding_window_delta(data, seq_length):\n",
    "    x = []\n",
    "    y = []\n",
    "\n",
    "    for i in range(len(data)-seq_length):\n",
    "        _x = data[i:(i+seq_length)]\n",
    "        _y = data[i+seq_length] - data[i+seq_length-1]\n",
    "        x.append(_x)\n",
    "        y.append(_y)\n",
    "\n",
    "    return np.array(x),np.array(y)\n",
    "\n",
    "my_arr = np.array([1,2,3,7,8,9,1,2,3])\n",
    "x,y = sliding_window_delta(my_arr,3)\n",
    "print(x)\n",
    "print(y)"
   ]
  },
  {
   "cell_type": "code",
   "execution_count": 8,
   "metadata": {},
   "outputs": [
    {
     "name": "stdout",
     "output_type": "stream",
     "text": [
      "dataX: torch.Size([5390, 10])\n",
      "trainX: torch.Size([4581, 10])\n",
      "testX: torch.Size([809, 10])\n",
      "dataY: torch.Size([5390, 1])\n",
      "trainY: torch.Size([4581, 1])\n",
      "testY: torch.Size([809, 1])\n"
     ]
    }
   ],
   "source": [
    "def sliding_windows(data, seq_length, output_length):\n",
    "    x = []\n",
    "    y = []\n",
    "\n",
    "    for i in range(len(data)-seq_length-(1+output_length)):\n",
    "        _x = data[i:(i+seq_length)]\n",
    "        _y = data[(i+seq_length):(i+seq_length+output_length)]\n",
    "        x.append(_x)\n",
    "        y.append(_y)\n",
    "\n",
    "    return np.array(x),np.array(y)\n",
    "\n",
    "training_data = dim1_data_scaled.reshape(-1,1)\n",
    "\n",
    "seq_length = 10\n",
    "single_output_length = 1\n",
    "# x, y = sliding_windows(training_data, seq_length, single_output_length)\n",
    "x, y = sliding_window_delta(training_data, seq_length)\n",
    "\n",
    "x = np.squeeze(x)\n",
    "\n",
    "train_test_ratio = 0.85\n",
    "train_size = int(len(y) * train_test_ratio)\n",
    "test_size = len(y) - train_size\n",
    "\n",
    "dataX = Variable(torch.Tensor(np.array(x)))\n",
    "dataY = Variable(torch.Tensor(np.array(y)))\n",
    "\n",
    "trainX = Variable(torch.Tensor(np.array(x[0:train_size])))\n",
    "trainY = Variable(torch.Tensor(np.array(y[0:train_size])))\n",
    "\n",
    "testX = Variable(torch.Tensor(np.array(x[train_size:len(x)])))\n",
    "testY = Variable(torch.Tensor(np.array(y[train_size:len(y)])))\n",
    "\n",
    "print(\"dataX:\",dataX.shape)\n",
    "print(\"trainX:\",trainX.shape)\n",
    "print(\"testX:\",testX.shape)\n",
    "print(\"dataY:\",dataY.shape)\n",
    "print(\"trainY:\",trainY.shape)\n",
    "print(\"testY:\",testY.shape)"
   ]
  },
  {
   "cell_type": "code",
   "execution_count": 9,
   "metadata": {},
   "outputs": [],
   "source": [
    "import torch.nn as nn\n",
    "#our class must extend nn.Module\n",
    "class BiggerNetwork(nn.Module):\n",
    "    def __init__(self):\n",
    "        super(BiggerNetwork,self).__init__()\n",
    "        #Our network consists of 3 layers. 1 input, 1 hidden and 1 output layer\n",
    "        #This applies Linear transformation to input data. \n",
    "        self.fc1 = nn.Linear(input_size,hidden_size)\n",
    "        \n",
    "        #This applies linear transformation to produce output data\n",
    "        self.fc2 = nn.Linear(hidden_size,output_size)\n",
    "        \n",
    "    #This must be implemented\n",
    "    def forward(self,x):\n",
    "        #Output of the first layer\n",
    "        x = self.fc1(x)\n",
    "        #Activation function is Relu. Feel free to experiment with this\n",
    "        x = torch.relu(x) # F.tanh(x)\n",
    "        #This produces output\n",
    "        x = self.fc2(x)\n",
    "        return x    \n",
    "    \n",
    "class SimpleNetwork(nn.Module):\n",
    "    def __init__(self):\n",
    "        super().__init__()\n",
    "        self.lin = nn.Linear(input_size,output_size)\n",
    "\n",
    "    def forward(self, xb):\n",
    "        return self.lin(xb)"
   ]
  },
  {
   "cell_type": "code",
   "execution_count": 10,
   "metadata": {},
   "outputs": [
    {
     "name": "stdout",
     "output_type": "stream",
     "text": [
      "torch.Size([4581, 1])\n",
      "torch.Size([4581, 1])\n"
     ]
    }
   ],
   "source": [
    "input_size = 10\n",
    "output_size = 1\n",
    "hidden_size = 1\n",
    "model = SimpleNetwork()\n",
    "print(model(trainX).shape)\n",
    "print(trainY.size())"
   ]
  },
  {
   "cell_type": "code",
   "execution_count": 88,
   "metadata": {},
   "outputs": [
    {
     "name": "stdout",
     "output_type": "stream",
     "text": [
      "torch.Size([4581, 1])\n",
      "torch.Size([4581, 1])\n",
      "Epoch: 0, loss: 0.09601\n",
      "Epoch: 50, loss: 0.00697\n",
      "Epoch: 100, loss: 0.00663\n",
      "Epoch: 150, loss: 0.00615\n",
      "Epoch: 200, loss: 0.00543\n",
      "Epoch: 250, loss: 0.00527\n",
      "Epoch: 300, loss: 0.00521\n",
      "Epoch: 350, loss: 0.00515\n",
      "Epoch: 400, loss: 0.00511\n",
      "Epoch: 450, loss: 0.00509\n",
      "Epoch: 500, loss: 0.00507\n",
      "Epoch: 550, loss: 0.00506\n",
      "Epoch: 600, loss: 0.00505\n",
      "Epoch: 650, loss: 0.00505\n",
      "Epoch: 700, loss: 0.00504\n",
      "Epoch: 750, loss: 0.00504\n",
      "Epoch: 800, loss: 0.00503\n",
      "Epoch: 850, loss: 0.00503\n",
      "Epoch: 900, loss: 0.00503\n",
      "Epoch: 950, loss: 0.00504\n",
      "Epoch: 1000, loss: 0.00502\n"
     ]
    }
   ],
   "source": [
    "torch.manual_seed(0)\n",
    "\n",
    "num_epochs = 1001\n",
    "learning_rate = 0.01\n",
    "input_size = 10\n",
    "output_size = 1\n",
    "hidden_size = 10\n",
    "model = BiggerNetwork()\n",
    "\n",
    "criterion = torch.nn.MSELoss()    # mean-squared error for regression\n",
    "optimizer = torch.optim.Adam(model.parameters(), lr=learning_rate)\n",
    "\n",
    "print(model(trainX).size())\n",
    "print(trainY.size())\n",
    "\n",
    "# Train the model\n",
    "for epoch in range(num_epochs):\n",
    "    outputs = model(trainX) #.reshape(-1,single_output_length)\n",
    "    optimizer.zero_grad()\n",
    "    \n",
    "    # obtain the loss function\n",
    "    loss = criterion(outputs, trainY)\n",
    "    \n",
    "    loss.backward()\n",
    "    \n",
    "    optimizer.step()\n",
    "    if epoch % 50 == 0:\n",
    "        print(\"Epoch: %d, loss: %1.5f\" % (epoch, loss.item()))"
   ]
  },
  {
   "cell_type": "code",
   "execution_count": 89,
   "metadata": {},
   "outputs": [
    {
     "name": "stdout",
     "output_type": "stream",
     "text": [
      "[0 2 4 6]\n",
      "[2 4 6 8]\n"
     ]
    }
   ],
   "source": [
    "def appender(input_seq,new_val):\n",
    "    \"\"\"\n",
    "    Append value to input sequence (treat as arrays)\n",
    "    \"\"\"\n",
    "    input_seq = np.delete(input_seq,0)\n",
    "    updated_input_seq = np.append(input_seq,new_val)\n",
    "    return updated_input_seq\n",
    "my_arr = np.array([0,2,4,6])\n",
    "print(my_arr)\n",
    "my_new_arr = appender(my_arr,8)\n",
    "print(my_new_arr)"
   ]
  },
  {
   "cell_type": "code",
   "execution_count": 90,
   "metadata": {},
   "outputs": [
    {
     "name": "stdout",
     "output_type": "stream",
     "text": [
      "tmp1: [ 0.00017357 -0.00136673  0.00039017 ... -0.00408697 -0.00159204\n",
      " -0.0088402 ]\n",
      "tmp2: [-0.00136673  0.00039017 -0.00275433 ... -0.00159204 -0.00884008\n",
      "  0.00023794]\n",
      "dataY [-0.00183154  0.00208916 -0.00373913 ...  0.00296666 -0.00861864\n",
      "  0.01079474]\n"
     ]
    }
   ],
   "source": [
    "tmp=(dataX.data.numpy()[:,-1])*dim1_data.std()+dim1_data.mean()\n",
    "print(\"tmp1:\",tmp)\n",
    "# plt.plot(tmp);\n",
    "\n",
    "tmp=(dataX.data.numpy()[:,-1]+dataY.data.numpy()[:,0])*dim1_data.std()+dim1_data.mean()\n",
    "print(\"tmp2:\",tmp)\n",
    "# plt.plot(tmp);\n",
    "\n",
    "print(\"dataY\",dataY.data.numpy()[:,0])"
   ]
  },
  {
   "cell_type": "code",
   "execution_count": 91,
   "metadata": {},
   "outputs": [
    {
     "name": "stdout",
     "output_type": "stream",
     "text": [
      "data size and type: torch.Size([5390, 10]) <class 'torch.Tensor'>\n"
     ]
    },
    {
     "data": {
      "text/plain": [
       "<matplotlib.legend.Legend at 0x7fc72ad685d0>"
      ]
     },
     "execution_count": 91,
     "metadata": {},
     "output_type": "execute_result"
    },
    {
     "data": {
      "image/png": "[encoded data removed]",
      "text/plain": [
       "<Figure size 1080x360 with 1 Axes>"
      ]
     },
     "metadata": {
      "needs_background": "light"
     },
     "output_type": "display_data"
    }
   ],
   "source": [
    "print(\"data size and type:\",dataX.size(),type(dataX))\n",
    "\n",
    "prediction_start_index = 160 #int(len(dataY)*train_test_ratio) + 10 #160\n",
    "horizon = 40\n",
    "\n",
    "model.eval()\n",
    "\n",
    "input_seq = dataX[prediction_start_index]\n",
    "future_val = model(dataX[prediction_start_index]).data.numpy()[0] + dataX[prediction_start_index][-1].data.numpy()\n",
    "\n",
    "output_collection = np.empty(0)\n",
    "output_collection = np.append(output_collection,future_val)\n",
    "\n",
    "for i in range(horizon-1):\n",
    "    updated_input_seq = appender(input_seq,future_val)\n",
    "#     updated_input_seq = updated_input_seq[np.newaxis,...,np.newaxis]\n",
    "    updated_input_seq = Variable(torch.tensor(updated_input_seq))\n",
    "    next_prediction = model(updated_input_seq)\n",
    "    \n",
    "    # Update states\n",
    "    input_seq = updated_input_seq\n",
    "    future_val = next_prediction.data.numpy()+updated_input_seq[-1].data.numpy()\n",
    "    output_collection = np.append(output_collection,future_val)\n",
    "    \n",
    "predictions = output_collection\n",
    "\n",
    "# Scale outputs up again after the inputs had been scaled down - using training data ONLY (dim1_data)\n",
    "data_predict_rescaled = predictions*dim1_data.std()+dim1_data.mean()\n",
    "gt_vals_rescaled = (dataX.data.numpy()[:,-1]+dataY.data.numpy()[:,0])*dim1_data.std()+dim1_data.mean()\n",
    "\n",
    "x_axis_ticks_horizon = np.linspace(prediction_start_index,prediction_start_index+horizon-1,horizon)\n",
    "x_axis_ticks_tm1 = np.linspace(prediction_start_index-1,prediction_start_index+horizon-1,horizon+1)\n",
    "\n",
    "plt.figure(figsize=(15,5))\n",
    "plt.axvline(x=train_size, c='r', linestyle='--',label=\"test data start\")\n",
    "plt.axvline(x=prediction_start_index, c='k', linestyle='--',label=\"prediction start\")\n",
    "view_size = horizon+10\n",
    "x_centre = prediction_start_index #len(dataY)*train_test_ratio\n",
    "plt.xlim(x_centre-view_size,x_centre+view_size)\n",
    "plt.plot(gt_vals_rescaled[:prediction_start_index],'b.-',label=\"Ground truth\")\n",
    "plt.plot(x_axis_ticks_tm1,gt_vals_rescaled[prediction_start_index-1:prediction_start_index+horizon],'b--',label=\"Ground truth t+N\")\n",
    "plt.plot(x_axis_ticks_horizon,data_predict_rescaled,'.-',color=\"orange\",label=\"Prediction\")\n",
    "\n",
    "title_string = 'Time-Series Prediction for pose in x, '+'hidden_size='+str(hidden_size) \\\n",
    "             +' seq_length='+str(seq_length)\n",
    "plt.title(title_string)\n",
    "plt.grid()\n",
    "plt.legend()"
   ]
  },
  {
   "cell_type": "code",
   "execution_count": 92,
   "metadata": {},
   "outputs": [],
   "source": [
    "def get_error_metrics(gt_predictions,model_predictions):\n",
    "    short_horizon = 5\n",
    "    med_horizon = 20\n",
    "    all_diffs = gt_predictions - model_predictions\n",
    "    short_diffs = all_diffs[0:short_horizon]\n",
    "    med_diffs = all_diffs[short_horizon:med_horizon]\n",
    "    long_diffs = all_diffs[med_horizon:]\n",
    "    short_rmse = np.sqrt(np.sum(np.square(short_diffs))/len(short_diffs))\n",
    "    med_rmse = np.sqrt(np.sum(np.square(med_diffs))/len(med_diffs))\n",
    "    long_rmse = np.sqrt(np.sum(np.square(long_diffs))/len(long_diffs))\n",
    "    return(short_rmse, med_rmse, long_rmse)"
   ]
  },
  {
   "cell_type": "code",
   "execution_count": 93,
   "metadata": {},
   "outputs": [
    {
     "data": {
      "text/plain": [
       "<matplotlib.legend.Legend at 0x7fc74c274350>"
      ]
     },
     "execution_count": 93,
     "metadata": {},
     "output_type": "execute_result"
    },
    {
     "data": {
      "image/png": "[encoded data removed]",
      "text/plain": [
       "<Figure size 1080x360 with 1 Axes>"
      ]
     },
     "metadata": {
      "needs_background": "light"
     },
     "output_type": "display_data"
    }
   ],
   "source": [
    "gt_predictions = gt_vals_rescaled[prediction_start_index:prediction_start_index+horizon]\n",
    "model_predictions = data_predict_rescaled\n",
    "\n",
    "plt.figure(figsize=(15,5))\n",
    "plt.plot(gt_predictions,'b--',label=\"Ground truth\")\n",
    "plt.plot(model_predictions,'.-',color=\"orange\",label=\"Prediction\")\n",
    "plt.grid()\n",
    "plt.legend()"
   ]
  },
  {
   "cell_type": "code",
   "execution_count": 95,
   "metadata": {},
   "outputs": [
    {
     "name": "stdout",
     "output_type": "stream",
     "text": [
      "08-06-2020-16-06-37\n",
      "Mean short RMSE: 0.08035464200080117\n",
      "Mean med RMSE: 0.2306440474753632\n",
      "Mean long RMSE: 0.5725253383259592\n"
     ]
    }
   ],
   "source": [
    "import datetime\n",
    "from time import strftime\n",
    "print(datetime.datetime.now().strftime(\"%d-%m-%Y-%H-%M-%S\"))\n",
    "\n",
    "save_plots = True\n",
    "prediction_start_index = 140 #int(len(dataY)*train_test_ratio) - 50\n",
    "horizon = 40 -1 # -1 because we do first step outside the loop\n",
    "num_frames_to_render = 300\n",
    "all_short_rmse = []\n",
    "all_med_rmse = []\n",
    "all_long_rmse = []\n",
    "\n",
    "experiment_dir = '/workspace/data/pose-prediction-odometry/'+datetime.datetime.now().strftime(\"%d-%m-%Y-%H-%M-%S\")\n",
    "if save_plots:\n",
    "#     os.mkdir(experiment_dir)\n",
    "    for frame in range(prediction_start_index,prediction_start_index+num_frames_to_render):\n",
    "        prediction_start_index = frame\n",
    "        model.eval()\n",
    "        input_seq = dataX[prediction_start_index]\n",
    "        future_val = model(dataX[prediction_start_index]).data.numpy()[0] + dataX[prediction_start_index][-1].data.numpy()\n",
    "\n",
    "        output_collection = np.empty(0)\n",
    "        output_collection = np.append(output_collection,future_val)\n",
    "\n",
    "        for i in range(horizon-1):\n",
    "            updated_input_seq = appender(input_seq,future_val)\n",
    "#             updated_input_seq = updated_input_seq[np.newaxis,...,np.newaxis]\n",
    "            updated_input_seq = Variable(torch.tensor(updated_input_seq))\n",
    "            next_prediction = model(updated_input_seq)\n",
    "\n",
    "            # Update states\n",
    "            input_seq = updated_input_seq\n",
    "            future_val = next_prediction.data.numpy()+updated_input_seq[-1].data.numpy()\n",
    "            output_collection = np.append(output_collection,future_val)\n",
    "\n",
    "        predictions = output_collection\n",
    "\n",
    "        # Scale outputs up again after the inputs had been scaled down - using training data ONLY (dim1_data)\n",
    "        data_predict_rescaled = predictions*dim1_data.std()+dim1_data.mean()\n",
    "        gt_vals_rescaled = (dataX.data.numpy()[:,-1]+dataY.data.numpy()[:,0])*dim1_data.std()+dim1_data.mean()\n",
    "\n",
    "        # Error metrics\n",
    "        gt_predictions = gt_vals_rescaled[prediction_start_index:prediction_start_index+horizon]\n",
    "        model_predictions = data_predict_rescaled\n",
    "        short_rmse, med_rmse, long_rmse = get_error_metrics(gt_predictions,model_predictions)\n",
    "        all_short_rmse.append(short_rmse)\n",
    "        all_med_rmse.append(med_rmse)\n",
    "        all_long_rmse.append(long_rmse)\n",
    "        \n",
    "#         x_axis_ticks_horizon = np.linspace(prediction_start_index,prediction_start_index+horizon-1,horizon)\n",
    "#         x_axis_ticks_tm1 = np.linspace(prediction_start_index-1,prediction_start_index+horizon-1,horizon+1)\n",
    "\n",
    "#         fig = plt.figure(figsize=(15,5))\n",
    "#         plt.axvline(x=train_size, c='r', linestyle='--',label=\"test data start\")\n",
    "#         plt.axvline(x=prediction_start_index, c='k', linestyle='--',label=\"prediction start\")\n",
    "#         view_size = horizon+10\n",
    "#         x_centre = prediction_start_index #len(dataY)*train_test_ratio\n",
    "#         plt.xlim(x_centre-view_size,x_centre+view_size)\n",
    "#         plt.plot(gt_vals_rescaled[:prediction_start_index],'b.-',label=\"Ground truth\")\n",
    "#         plt.plot(x_axis_ticks_tm1,gt_vals_rescaled[prediction_start_index-1:prediction_start_index+horizon],'b--',label=\"Ground truth t+N\")\n",
    "#         plt.plot(x_axis_ticks_horizon,data_predict_rescaled,'.-',color=\"orange\",label=\"Prediction\")\n",
    "\n",
    "#         title_string = 'Time-Series Prediction for pose in x, fc network, '+'hidden_size='+str(hidden_size) \\\n",
    "#                      +' seq_length='+str(seq_length)\n",
    "#         plt.title(title_string)\n",
    "#         plt.grid()\n",
    "#         plt.legend()\n",
    "#         plt.savefig(\"%s%s%i%s%i%s\" % (experiment_dir,'/hiddensize-',hidden_size,'-frame-',frame,'.png'), \\\n",
    "#                 bbox_inches='tight')\n",
    "#         plt.close(fig)\n",
    "print(\"Mean short RMSE:\",np.array(all_short_rmse).mean())\n",
    "print(\"Mean med RMSE:\",np.array(all_med_rmse).mean())\n",
    "print(\"Mean long RMSE:\",np.array(all_long_rmse).mean())\n"
   ]
  },
  {
   "cell_type": "code",
   "execution_count": null,
   "metadata": {},
   "outputs": [],
   "source": []
  }
 ],
 "metadata": {
  "kernelspec": {
   "display_name": "Python 3",
   "language": "python",
   "name": "python3"
  },
  "language_info": {
   "codemirror_mode": {
    "name": "ipython",
    "version": 3
   },
   "file_extension": ".py",
   "mimetype": "text/x-python",
   "name": "python",
   "nbconvert_exporter": "python",
   "pygments_lexer": "ipython3",
   "version": "3.7.6"
  }
 },
 "nbformat": 4,
 "nbformat_minor": 4
}
